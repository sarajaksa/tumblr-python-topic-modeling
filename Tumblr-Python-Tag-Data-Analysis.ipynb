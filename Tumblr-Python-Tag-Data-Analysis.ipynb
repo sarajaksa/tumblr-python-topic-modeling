{
 "cells": [
  {
   "cell_type": "markdown",
   "metadata": {},
   "source": [
    "# Tumblr Python Tag Topic Analysis"
   ]
  },
  {
   "cell_type": "markdown",
   "metadata": {},
   "source": [
    "There are many ways in how to analyse the topics of different texts. The methods include things like word clouds, network analysis of tags, TF-IDF, and algorithms, that exist for this problem class, like LSA, LDA and many more. "
   ]
  },
  {
   "cell_type": "markdown",
   "metadata": {},
   "source": [
    "## Imports"
   ]
  },
  {
   "cell_type": "code",
   "execution_count": 231,
   "metadata": {},
   "outputs": [],
   "source": [
    "import matplotlib.pyplot as plt\n",
    "from bs4 import BeautifulSoup\n",
    "import pyLDAvis.gensim\n",
    "import collections\n",
    "import statistics\n",
    "import networkx\n",
    "import pyLDAvis\n",
    "import string\n",
    "import gensim\n",
    "import pickle\n",
    "import shutil\n",
    "import pandas\n",
    "import json\n",
    "import nltk\n",
    "import os"
   ]
  },
  {
   "cell_type": "code",
   "execution_count": 88,
   "metadata": {},
   "outputs": [],
   "source": [
    "pyLDAvis.enable_notebook()"
   ]
  },
  {
   "cell_type": "markdown",
   "metadata": {},
   "source": [
    "## Download Data"
   ]
  },
  {
   "cell_type": "markdown",
   "metadata": {},
   "source": [
    "I wrote the script, to download all the posts with the specific tag and save it in the folder. The script can be found also in this repository. It is the DownloadTumblirData.py file. The usage is explaned in the script. "
   ]
  },
  {
   "cell_type": "markdown",
   "metadata": {},
   "source": [
    "## Constants"
   ]
  },
  {
   "cell_type": "markdown",
   "metadata": {},
   "source": [
    "Here I am first defining the folder, where different saved data is going to be hold. The folder_post is the folder, where the posts were loaded with the script. The folder_text_data is where the text of the posts is going to be saved. And the folder_preprocessed is where the preprocessed text is going to be saved (since preprocessing takes some time). The filtered folder is the folder, after the filtering based on corpus is done. \n",
    "\n",
    "The folder_model and folder_vis are folder, where the models and visualizations are going to be saved. The 1 is meant for the modeling, that is going to distigush the use of tag python between the python as programming langauge and python as everything else."
   ]
  },
  {
   "cell_type": "code",
   "execution_count": 497,
   "metadata": {},
   "outputs": [],
   "source": [
    "folder_posts = \"data\"\n",
    "folder_text_data = \"posts_text\"\n",
    "folder_preprocessed = \"preprocessed\"\n",
    "folder_filtered = \"filtered_text\"\n",
    "folder_python = \"text_python\"\n",
    "folder_models_1 = \"models_1\"\n",
    "folder_vis_1 = \"vis_1\"\n",
    "folder_models_2 = \"models_2\"\n",
    "folder_vis_2 = \"vis_2\"\n",
    "folder_coding = \"text_coding\"\n",
    "folder_models_3 = \"models_3\"\n",
    "folder_vis_3 = \"vis_3\""
   ]
  },
  {
   "cell_type": "markdown",
   "metadata": {},
   "source": [
    "## Tag Analysis"
   ]
  },
  {
   "cell_type": "markdown",
   "metadata": {},
   "source": [
    "In order to see, if there are any group, I am first going to analyze the tags in the posts. I will try to see, if there are any tags that appear together more frequently than it would be expected from their seperate frequencies."
   ]
  },
  {
   "cell_type": "markdown",
   "metadata": {},
   "source": [
    "First I will analyze the posts, to see extract the tags from them."
   ]
  },
  {
   "cell_type": "code",
   "execution_count": 34,
   "metadata": {},
   "outputs": [],
   "source": [
    "all_posts = os.listdir(folder_posts)"
   ]
  },
  {
   "cell_type": "code",
   "execution_count": 35,
   "metadata": {},
   "outputs": [],
   "source": [
    "number_of_files = len(all_posts)"
   ]
  },
  {
   "cell_type": "code",
   "execution_count": 36,
   "metadata": {},
   "outputs": [],
   "source": [
    "all_tags = []\n",
    "all_tags_connections = collections.defaultdict(dict)"
   ]
  },
  {
   "cell_type": "code",
   "execution_count": 37,
   "metadata": {},
   "outputs": [],
   "source": [
    "for filename in all_posts:\n",
    "    with open(os.path.join(folder_posts, filename), \"r\") as f:\n",
    "        data = f.readlines()\n",
    "        data = \" \".join(data)\n",
    "    data = json.loads(data)\n",
    "    current_tags = data[\"tags\"]\n",
    "    current_tags = [t.lower() for t in current_tags]\n",
    "    for tag1 in current_tags:\n",
    "        for tag2 in current_tags:\n",
    "            if tag1 > tag2:\n",
    "                try:\n",
    "                    all_tags_connections[tag1][tag2] += 1\n",
    "                except KeyError:\n",
    "                    all_tags_connections[tag1][tag2] = 1\n",
    "    all_tags += current_tags"
   ]
  },
  {
   "cell_type": "code",
   "execution_count": 38,
   "metadata": {},
   "outputs": [],
   "source": [
    "all_tags_count = collections.Counter(all_tags)"
   ]
  },
  {
   "cell_type": "code",
   "execution_count": 39,
   "metadata": {},
   "outputs": [],
   "source": [
    "all_tags_freq = {k: v / number_of_files for k, v in all_tags_count.items()}"
   ]
  },
  {
   "cell_type": "code",
   "execution_count": 40,
   "metadata": {},
   "outputs": [
    {
     "data": {
      "text/plain": [
       "[('python', 40610),\n",
       " ('learn python', 14504),\n",
       " ('python tutorial', 13952),\n",
       " ('python programming', 13582),\n",
       " ('python development', 12729),\n",
       " ('programming', 4075),\n",
       " ('automatically generated text', 3792),\n",
       " ('patrick mooney', 3791),\n",
       " ('markov chains', 3764),\n",
       " ('snake', 3292),\n",
       " ('paul graham', 2394),\n",
       " ('development', 1963),\n",
       " ('coding', 1721),\n",
       " ('machine learning', 1624),\n",
       " ('ball python', 1523),\n",
       " ('python3', 1394),\n",
       " ('software development', 1375),\n",
       " ('reptiblr', 1365),\n",
       " ('expert', 1324),\n",
       " ('engineering', 1315)]"
      ]
     },
     "execution_count": 40,
     "metadata": {},
     "output_type": "execute_result"
    }
   ],
   "source": [
    "all_tags_count.most_common(20)"
   ]
  },
  {
   "cell_type": "markdown",
   "metadata": {},
   "source": [
    "Up above one can see the most frequent tags. Since these are the posts, that always have to include the python tag, it is not surprising, that it dominates. But one can also see, which tags frequently appear with this tag."
   ]
  },
  {
   "cell_type": "markdown",
   "metadata": {},
   "source": [
    "Next, I am going to create a graph, where the edges will be the difference between the expected and observed frequency of connection. The expected frequency is the multiplication of the frequencies, with which the tags appear in the database. The obesrved frequency will then have the expected one removed from it. If the resulting value is more than 0, then the connection appear more than expected. If it is negative, then it appears less then expected. "
   ]
  },
  {
   "cell_type": "code",
   "execution_count": 43,
   "metadata": {},
   "outputs": [],
   "source": [
    "T=networkx.Graph()"
   ]
  },
  {
   "cell_type": "code",
   "execution_count": 44,
   "metadata": {},
   "outputs": [],
   "source": [
    "for tag1, data in all_tags_connections.items():\n",
    "    for tag2, count in data.items():\n",
    "        freq_con = count / number_of_files\n",
    "        freq_expect = all_tags_freq[tag1] * all_tags_freq[tag2]\n",
    "        surprise = freq_con - freq_expect\n",
    "        if surprise > 0.02:\n",
    "            T.add_edge(tag1,tag2,weight=surprise)"
   ]
  },
  {
   "cell_type": "code",
   "execution_count": 45,
   "metadata": {},
   "outputs": [
    {
     "data": {
      "text/plain": [
       "28"
      ]
     },
     "execution_count": 45,
     "metadata": {},
     "output_type": "execute_result"
    }
   ],
   "source": [
    "len(T.nodes())"
   ]
  },
  {
   "cell_type": "code",
   "execution_count": 48,
   "metadata": {},
   "outputs": [
    {
     "name": "stderr",
     "output_type": "stream",
     "text": [
      "/usr/lib/python3.7/site-packages/networkx/drawing/nx_pylab.py:611: MatplotlibDeprecationWarning: isinstance(..., numbers.Number)\n",
      "  if cb.is_numlike(alpha):\n"
     ]
    },
    {
     "data": {
      "image/png": "[encoded data removed]",
      "text/plain": [
       "<Figure size 1080x1080 with 1 Axes>"
      ]
     },
     "metadata": {},
     "output_type": "display_data"
    }
   ],
   "source": [
    "plt.figure(1,figsize=(15,15)) \n",
    "networkx.draw(T, \n",
    "        with_labels=True, \n",
    "        pos=networkx.spring_layout(T), \n",
    "        font_weight='bold', \n",
    "        node_color=\"lightblue\",\n",
    "        width=3, \n",
    "        arrows=True, \n",
    "        node_size=1000,\n",
    "             )"
   ]
  },
  {
   "cell_type": "markdown",
   "metadata": {},
   "source": [
    "As it can been seen from the picture, there are groups of tags that appear together more than expected. There is the snake group, python learning group, pything development, art and artificial intelligence and whatever the fuck the last one is. "
   ]
  },
  {
   "cell_type": "markdown",
   "metadata": {},
   "source": [
    "## Topic Analysis - Preprocessing"
   ]
  },
  {
   "cell_type": "markdown",
   "metadata": {},
   "source": [
    "First I need to get all the posts, that were downloaded and take the text from the posts. "
   ]
  },
  {
   "cell_type": "code",
   "execution_count": 7,
   "metadata": {},
   "outputs": [],
   "source": [
    "all_posts = os.listdir(folder_posts)"
   ]
  },
  {
   "cell_type": "code",
   "execution_count": 8,
   "metadata": {},
   "outputs": [],
   "source": [
    "all_types = []\n",
    "for post in all_posts:\n",
    "    with open(os.path.join(folder_posts, post), \"r\") as f:\n",
    "        data = f.readlines()\n",
    "        data = \" \".join(data)\n",
    "    data = json.loads(data)\n",
    "    all_types.append(data[\"type\"])"
   ]
  },
  {
   "cell_type": "code",
   "execution_count": 9,
   "metadata": {},
   "outputs": [
    {
     "data": {
      "text/plain": [
       "[('photo', 24143),\n",
       " ('text', 12059),\n",
       " ('link', 2803),\n",
       " ('video', 1181),\n",
       " ('quote', 148),\n",
       " ('answer', 144),\n",
       " ('audio', 34),\n",
       " ('chat', 33)]"
      ]
     },
     "execution_count": 9,
     "metadata": {},
     "output_type": "execute_result"
    }
   ],
   "source": [
    "collections.Counter(all_types).most_common()"
   ]
  },
  {
   "cell_type": "markdown",
   "metadata": {},
   "source": [
    "I am interested in the ones, that have text, which would be text, link, quote, answer and chat. \n",
    "\n",
    "If one takes the look in the distribution of the posts, it can be seen that some are a lot more popular than others. The photo and text have an order of magnitude more posts than the rest of them. Since the article that I read showed some problems with potentially short posts (Comparing Topic Models for a Movie Recommendation System by Sonia Bergamaschi, Laura Po and Serena Sorrentino), and that text and answers are usually the longer ones (from my preception of reading a subset of them), I decided to use just the text one (there were not a lot of answers, so I eliminated these). "
   ]
  },
  {
   "cell_type": "markdown",
   "metadata": {},
   "source": [
    "In order to prove my intuition, I also checked the length of it."
   ]
  },
  {
   "cell_type": "code",
   "execution_count": 10,
   "metadata": {},
   "outputs": [],
   "source": [
    "all_lengths = collections.defaultdict(list)\n",
    "for post in all_posts:\n",
    "    with open(os.path.join(folder_posts, post), \"r\") as f:\n",
    "        data = f.readlines()\n",
    "        data = \" \".join(data)\n",
    "        data = json.loads(data)\n",
    "    if data[\"type\"] == \"text\":\n",
    "        all_lengths[\"text\"].append(len(data[\"body\"]))\n",
    "    if data[\"type\"] == \"link\":\n",
    "        all_lengths[\"link\"].append(len(data[\"description\"]))\n",
    "    if data[\"type\"] == \"quote\":\n",
    "        all_lengths[\"quote\"].append(len(data[\"text\"]))\n",
    "    if data[\"type\"] == \"answer\":\n",
    "        all_lengths[\"answer\"].append(len(data[\"answer\"]))\n",
    "    if data[\"type\"] == \"chat\":\n",
    "        all_lengths[\"chat\"].append(len(data[\"body\"]))"
   ]
  },
  {
   "cell_type": "code",
   "execution_count": 13,
   "metadata": {},
   "outputs": [
    {
     "name": "stdout",
     "output_type": "stream",
     "text": [
      "text 3251.14230035658\n",
      "link 293.61077417053156\n",
      "quote 332.97297297297297\n",
      "answer 1093.6597222222222\n",
      "chat 338.09090909090907\n"
     ]
    }
   ],
   "source": [
    "for post_type, lengths in all_lengths.items():\n",
    "    print(post_type, statistics.mean(lengths))"
   ]
  },
  {
   "cell_type": "markdown",
   "metadata": {},
   "source": [
    "My intuition ended up being right. Comparing the mean length (based on characters), the link, quote and chat are quite shorter than answer, which is again shorter than text. So I am onyl going to be using text posts in my analysis. "
   ]
  },
  {
   "cell_type": "code",
   "execution_count": 20,
   "metadata": {},
   "outputs": [
    {
     "name": "stderr",
     "output_type": "stream",
     "text": [
      "/usr/lib/python3.7/site-packages/bs4/__init__.py:335: UserWarning: \"http://docopt.org/\" looks like a URL. Beautiful Soup is not an HTTP client. You should probably use an HTTP client like requests to get the document behind the URL, and feed that document to Beautiful Soup.\n",
      "  ' that document to Beautiful Soup.' % decoded_markup\n"
     ]
    }
   ],
   "source": [
    "for post in all_posts:\n",
    "    with open(os.path.join(folder_posts, post), \"r\") as f:\n",
    "        data = f.readlines()\n",
    "        data = \" \".join(data)\n",
    "    data = json.loads(data)\n",
    "    text = \"\"\n",
    "    if data[\"type\"] == \"text\":\n",
    "        title = data[\"title\"]\n",
    "        if title:\n",
    "            title = BeautifulSoup(title)\n",
    "            title = title.get_text()\n",
    "            text += title\n",
    "            text += \" \"\n",
    "        body = data[\"body\"]\n",
    "        if body:\n",
    "            body = BeautifulSoup(body)\n",
    "            body = body.get_text()\n",
    "            text += body\n",
    "    if text:\n",
    "        with open(os.path.join(folder_text_data, post), \"w\") as f:\n",
    "            f.write(text)"
   ]
  },
  {
   "cell_type": "markdown",
   "metadata": {},
   "source": [
    "Next I am going to put the text through some preprocessing. I will tokenize all of the text posts. Then I will remove all the words with 1 or 2 characters, all stop words, and punctuation. Then I will only keep the nouns, verbs, adjectives and adverbs. After that I will lemmatize and stem the words. Then I will create the bi- and three-grams, and keep the ones, where all the words above will survive the filtering process. "
   ]
  },
  {
   "cell_type": "code",
   "execution_count": 26,
   "metadata": {},
   "outputs": [],
   "source": [
    "stop_words = set(nltk.corpus.stopwords.words(\"english\"))\n",
    "lem = nltk.stem.WordNetLemmatizer()\n",
    "stem = nltk.stem.porter.PorterStemmer()"
   ]
  },
  {
   "cell_type": "code",
   "execution_count": 27,
   "metadata": {},
   "outputs": [],
   "source": [
    "all_text_posts = os.listdir(folder_text_data)"
   ]
  },
  {
   "cell_type": "code",
   "execution_count": 31,
   "metadata": {},
   "outputs": [],
   "source": [
    "for post in all_text_posts:\n",
    "    with open(os.path.join(folder_text_data, post), \"r\") as f:\n",
    "        data = f.readlines()\n",
    "        data = \" \".join(data)\n",
    "    data = data.lower()\n",
    "    data_words = nltk.tokenize.word_tokenize(data)\n",
    "    data_words = [w.strip() for w in data_words if w.strip()]\n",
    "    data_words_filtered = [w for w in data_words if w not in stop_words and w not in string.punctuation and w not in \"`’”“\"]\n",
    "    data_words_filtered = [w for w in data_words_filtered if len(w) > 2]\n",
    "    data_words_filtered = [w for w in data_words_filtered if nltk.pos_tag([w])[0][1][:2] in {\"JJ\", \"NN\", \"VB\", \"RB\"}]\n",
    "    data_words_filtered = [lem.lemmatize(w) for w in data_words_filtered]\n",
    "    data_words_filtered = [stem.stem(w) for w in data_words_filtered]\n",
    "    data_bigrams = nltk.bigrams(data_words)\n",
    "    data_bigrams = [(w1, w2) for w1, w2 in data_bigrams if len(w1) > 2 and len(w2) > 2]\n",
    "    data_bigrams = [(w1, w2) for w1, w2 in data_bigrams if w1 not in stop_words and w2 not in stop_words]\n",
    "    data_bigrams = [(w1, w2) for w1, w2 in data_bigrams if w1 not in string.punctuation and  w2 not in string.punctuation]\n",
    "    data_bigrams = [(w1, w2) for w1, w2 in data_bigrams if w1 not in \"`’”“\" and w2 not in \"`’”“\"]\n",
    "    data_bigrams = [(w1, w2) for w1, w2 in data_bigrams if nltk.pos_tag([w1])[0][1][:2] in {\"JJ\", \"NN\", \"VB\", \"RB\"} and nltk.pos_tag([w2])[0][1][:2] in {\"JJ\", \"NN\", \"VB\", \"RB\"}]\n",
    "    data_bigrams = [(lem.lemmatize(w1), lem.lemmatize(w2)) for w1, w2 in data_bigrams]\n",
    "    data_bigrams = [(stem.stem(w1), stem.stem(w2)) for w1, w2 in data_bigrams]\n",
    "    data_bigrams = [\" \".join([w1, w2]) for w1, w2 in data_bigrams]\n",
    "    data_trigrams = nltk.ngrams(data_words, 3)\n",
    "    data_trigrams = [(w1, w2, w3) for w1, w2, w3 in data_trigrams if len(w1) > 2 and len(w2) > 2 and len(w3) > 2]\n",
    "    data_trigrams = [(w1, w2, w3) for w1, w2, w3 in data_trigrams if w1 not in stop_words and w2 not in stop_words and w3 not in stop_words]\n",
    "    data_trigrams = [(w1, w2, w3) for w1, w2, w3 in data_trigrams if w1 not in string.punctuation and  w2 not in string.punctuation and w3 not in string.punctuation]\n",
    "    data_trigrams = [(w1, w2, w3) for w1, w2, w3 in data_trigrams if w1 not in \"`’”“\" and w2 not in \"`’”“\" and w3 not in \"`’”“\"]\n",
    "    data_trigrams = [(w1, w2, w3) for w1, w2, w3 in data_trigrams if nltk.pos_tag([w1])[0][1][:2] in {\"JJ\", \"NN\", \"VB\", \"RB\"} and nltk.pos_tag([w2])[0][1][:2] in {\"JJ\", \"NN\", \"VB\", \"RB\"} and nltk.pos_tag([w3])[0][1][:2] in {\"JJ\", \"NN\", \"VB\", \"RB\"}]\n",
    "    data_trigrams = [(lem.lemmatize(w1), lem.lemmatize(w2), lem.lemmatize(w3)) for w1, w2, w3 in data_trigrams]\n",
    "    data_trigrams = [(stem.stem(w1), stem.stem(w2), stem.stem(w3)) for w1, w2, w3 in data_trigrams]\n",
    "    data_trigrams = [\" \".join([w1, w2, w3]) for w1, w2, w3 in data_trigrams]\n",
    "    data_words_filtered += data_bigrams\n",
    "    data_words_filtered += data_trigrams\n",
    "    if len(data_words_filtered) > 20:\n",
    "        with open(os.path.join(folder_preprocessed, post), \"w\") as f:\n",
    "            for w in data_words_filtered:\n",
    "                f.write(w + \"\\n\")"
   ]
  },
  {
   "cell_type": "markdown",
   "metadata": {},
   "source": [
    "Next I am going to filter the most frequent and least frequent words out. I am going to filter all the words, that appear in less than 0,5% of posts and words that appear in more than 90% of posts. \n",
    "\n",
    "I am going to do this, because when I was analysing the MeiCogSci abstracts, I got a lot better results, when I removed all the words, that appear in more than half of the posts. Since here I think some of the more frequent words can still tell quite a lot about the topic, I put in a more lenent threshold. "
   ]
  },
  {
   "cell_type": "code",
   "execution_count": 49,
   "metadata": {},
   "outputs": [],
   "source": [
    "number_of_posts = len(os.listdir(folder_preprocessed))"
   ]
  },
  {
   "cell_type": "code",
   "execution_count": 50,
   "metadata": {},
   "outputs": [],
   "source": [
    "all_preprocessed_posts = os.listdir(folder_preprocessed)"
   ]
  },
  {
   "cell_type": "code",
   "execution_count": 51,
   "metadata": {},
   "outputs": [],
   "source": [
    "all_words_in_texts = []\n",
    "for filename in all_preprocessed_posts:\n",
    "    with open(os.path.join(folder_preprocessed, filename), \"r\") as f:\n",
    "        words = f.readlines()\n",
    "        words = [w.strip() for w in words]\n",
    "    all_words_in_texts += list(set(words))"
   ]
  },
  {
   "cell_type": "code",
   "execution_count": 52,
   "metadata": {},
   "outputs": [],
   "source": [
    "all_words_in_texts_freq = collections.Counter(all_words_in_texts)"
   ]
  },
  {
   "cell_type": "code",
   "execution_count": 53,
   "metadata": {},
   "outputs": [],
   "source": [
    "keep = set()"
   ]
  },
  {
   "cell_type": "code",
   "execution_count": 54,
   "metadata": {},
   "outputs": [],
   "source": [
    "for word, count in all_words_in_texts_freq.items():\n",
    "    freq = count/number_of_posts\n",
    "    if freq < 0.9 and freq > 0.005:\n",
    "        keep.add(word)"
   ]
  },
  {
   "cell_type": "code",
   "execution_count": 55,
   "metadata": {},
   "outputs": [],
   "source": [
    "keep = set([w.strip() for w in keep if w.strip()])"
   ]
  },
  {
   "cell_type": "code",
   "execution_count": 58,
   "metadata": {},
   "outputs": [],
   "source": [
    "all_texts = []\n",
    "for filename in all_preprocessed_posts:\n",
    "    with open(os.path.join(folder_preprocessed, filename), \"r\") as f:\n",
    "        words = f.readlines()\n",
    "        words = [w.strip() for w in words if w.strip() in keep]\n",
    "    if len(words) > 20:\n",
    "        all_texts.append(words)\n",
    "        with open(os.path.join(folder_filtered, filename), \"w\") as f:\n",
    "            for w in words:\n",
    "                f.write(w + \"\\n\")"
   ]
  },
  {
   "cell_type": "code",
   "execution_count": 59,
   "metadata": {},
   "outputs": [
    {
     "data": {
      "text/plain": [
       "8116"
      ]
     },
     "execution_count": 59,
     "metadata": {},
     "output_type": "execute_result"
    }
   ],
   "source": [
    "len(os.listdir(folder_filtered))"
   ]
  },
  {
   "cell_type": "markdown",
   "metadata": {},
   "source": [
    "So now I have the filtered posts, the ones that are long enough to be able to used them for analysis and all preprocessed. I am now left with 8116 posts, to try and extract the topics from them."
   ]
  },
  {
   "cell_type": "markdown",
   "metadata": {},
   "source": [
    "## Topic Modeling - Modeling (What Python is Meant?)"
   ]
  },
  {
   "cell_type": "markdown",
   "metadata": {},
   "source": [
    "Here I am still dealing with all the posts, that had python as the tag. As seen above, some of the posts are clearly snake related, which is something that I don't want in my dataset. I want posts that talk about python as a programming langauges. Lets see if topic modeling can help distinguist these posts?"
   ]
  },
  {
   "cell_type": "markdown",
   "metadata": {},
   "source": [
    "First I need to put the texts into a form, that can be used by the modeling libary. "
   ]
  },
  {
   "cell_type": "code",
   "execution_count": 63,
   "metadata": {},
   "outputs": [],
   "source": [
    "dictionary = gensim.corpora.Dictionary(all_texts)"
   ]
  },
  {
   "cell_type": "code",
   "execution_count": 64,
   "metadata": {},
   "outputs": [],
   "source": [
    "doc_term_matrix = [dictionary.doc2bow(doc) for doc in all_texts]"
   ]
  },
  {
   "cell_type": "markdown",
   "metadata": {},
   "source": [
    "Now I need to create the models to help me with filtering out the non-programming python posts. I think the 5 topics will be enough for this, so I am going to generate the model for number of topics from 2 to 5 and save them to file."
   ]
  },
  {
   "cell_type": "code",
   "execution_count": 83,
   "metadata": {},
   "outputs": [],
   "source": [
    "models = []"
   ]
  },
  {
   "cell_type": "code",
   "execution_count": 84,
   "metadata": {},
   "outputs": [
    {
     "name": "stdout",
     "output_type": "stream",
     "text": [
      "2\n"
     ]
    },
    {
     "name": "stderr",
     "output_type": "stream",
     "text": [
      "/usr/lib/python3.7/site-packages/pyLDAvis/_prepare.py:257: FutureWarning: Sorting because non-concatenation axis is not aligned. A future version\n",
      "of pandas will change to not sort by default.\n",
      "\n",
      "To accept the future behavior, pass 'sort=False'.\n",
      "\n",
      "To retain the current behavior and silence the warning, pass 'sort=True'.\n",
      "\n",
      "  return pd.concat([default_term_info] + list(topic_dfs))\n"
     ]
    },
    {
     "name": "stdout",
     "output_type": "stream",
     "text": [
      "3\n"
     ]
    },
    {
     "name": "stderr",
     "output_type": "stream",
     "text": [
      "/usr/lib/python3.7/site-packages/pyLDAvis/_prepare.py:257: FutureWarning: Sorting because non-concatenation axis is not aligned. A future version\n",
      "of pandas will change to not sort by default.\n",
      "\n",
      "To accept the future behavior, pass 'sort=False'.\n",
      "\n",
      "To retain the current behavior and silence the warning, pass 'sort=True'.\n",
      "\n",
      "  return pd.concat([default_term_info] + list(topic_dfs))\n"
     ]
    },
    {
     "name": "stdout",
     "output_type": "stream",
     "text": [
      "4\n"
     ]
    },
    {
     "name": "stderr",
     "output_type": "stream",
     "text": [
      "/usr/lib/python3.7/site-packages/pyLDAvis/_prepare.py:257: FutureWarning: Sorting because non-concatenation axis is not aligned. A future version\n",
      "of pandas will change to not sort by default.\n",
      "\n",
      "To accept the future behavior, pass 'sort=False'.\n",
      "\n",
      "To retain the current behavior and silence the warning, pass 'sort=True'.\n",
      "\n",
      "  return pd.concat([default_term_info] + list(topic_dfs))\n"
     ]
    },
    {
     "name": "stdout",
     "output_type": "stream",
     "text": [
      "5\n"
     ]
    },
    {
     "name": "stderr",
     "output_type": "stream",
     "text": [
      "/usr/lib/python3.7/site-packages/pyLDAvis/_prepare.py:257: FutureWarning: Sorting because non-concatenation axis is not aligned. A future version\n",
      "of pandas will change to not sort by default.\n",
      "\n",
      "To accept the future behavior, pass 'sort=False'.\n",
      "\n",
      "To retain the current behavior and silence the warning, pass 'sort=True'.\n",
      "\n",
      "  return pd.concat([default_term_info] + list(topic_dfs))\n"
     ]
    }
   ],
   "source": [
    "for i in range(2,6):\n",
    "    print(i)\n",
    "    name = \"LDA_1_\" + str(i)\n",
    "    Lda = gensim.models.ldamodel.LdaModel\n",
    "    model = Lda(doc_term_matrix, num_topics=i, id2word = dictionary, passes=20)\n",
    "    model.save(os.path.join(folder_models_1, name))\n",
    "    vis = pyLDAvis.gensim.prepare(model, doc_term_matrix, dictionary)\n",
    "    with open(os.path.join(folder_vis_1, name), \"wb\") as f:\n",
    "        pickle.dump(vis, f)\n",
    "    pyLDAvis.save_html(vis, os.path.join(folder_vis_1, name + \".html\"))\n",
    "    models.append([i, model, vis])"
   ]
  },
  {
   "cell_type": "markdown",
   "metadata": {},
   "source": [
    "By inspecting the vizualization created by pyLDAvis.prepare() and saved by the pyLDAvis.save_html() function, there are two topics, that could help with filtering the non-programming topics out. This are the two-topic solution and the three-topic solution. I have printed out the most descriptive words for each topic, along with their weights. "
   ]
  },
  {
   "cell_type": "code",
   "execution_count": 94,
   "metadata": {},
   "outputs": [
    {
     "data": {
      "text/plain": [
       "[(0,\n",
       "  '0.007*\"use\" + 0.007*\"get\" + 0.007*\"peopl\" + 0.007*\"startup\" + 0.007*\"work\" + 0.006*\"make\" + 0.006*\"thing\" + 0.005*\"python\" + 0.005*\"want\" + 0.005*\"time\" + 0.004*\"think\" + 0.004*\"way\" + 0.004*\"good\" + 0.004*\"start\" + 0.004*\"compani\"'),\n",
       " (1,\n",
       "  '0.008*\"god\" + 0.006*\"old\" + 0.006*\"night\" + 0.006*\"moon\" + 0.005*\"man\" + 0.004*\"strang\" + 0.004*\"earth\" + 0.004*\"stone\" + 0.004*\"thing\" + 0.004*\"citi\" + 0.004*\"atal\" + 0.004*\"dark\" + 0.004*\"saw\" + 0.004*\"cat\" + 0.004*\"light\"')]"
      ]
     },
     "execution_count": 94,
     "metadata": {},
     "output_type": "execute_result"
    }
   ],
   "source": [
    "models[0][1].print_topics(num_topics=-1, num_words=15)"
   ]
  },
  {
   "cell_type": "markdown",
   "metadata": {},
   "source": [
    "The two topic solution seems to create the solution of programming jobs and nature. \n",
    "\n",
    "* The **PROGRAMMING JOBS** topic have words like use, get, people, startup, work, make, thing, python, want, time and think\n",
    "* The **NATURE** topic have words like god, old, night, moon, man, strange, earth, stone, thing, cuty, dark, saw, cat and light"
   ]
  },
  {
   "cell_type": "code",
   "execution_count": 96,
   "metadata": {},
   "outputs": [
    {
     "data": {
      "text/plain": [
       "[(0,\n",
       "  '0.015*\"python\" + 0.012*\"use\" + 0.008*\"code\" + 0.006*\"print\" + 0.006*\"return\" + 0.006*\"import\" + 0.005*\"file\" + 0.005*\"creat\" + 0.005*\"twilio\" + 0.005*\"number\" + 0.005*\"link\" + 0.005*\"new\" + 0.005*\"time\" + 0.005*\"def\" + 0.005*\"data\"'),\n",
       " (1,\n",
       "  '0.009*\"peopl\" + 0.009*\"startup\" + 0.008*\"thing\" + 0.007*\"work\" + 0.007*\"get\" + 0.007*\"make\" + 0.006*\"good\" + 0.005*\"want\" + 0.005*\"think\" + 0.005*\"compani\" + 0.005*\"way\" + 0.005*\"seem\" + 0.004*\"much\" + 0.004*\"someth\" + 0.004*\"even\"'),\n",
       " (2,\n",
       "  '0.011*\"god\" + 0.007*\"man\" + 0.007*\"moon\" + 0.007*\"old\" + 0.007*\"night\" + 0.006*\"earth\" + 0.006*\"strang\" + 0.006*\"stone\" + 0.005*\"atal\" + 0.005*\"men\" + 0.005*\"dark\" + 0.005*\"barzai\" + 0.005*\"light\" + 0.004*\"valley\" + 0.004*\"daemon\"')]"
      ]
     },
     "execution_count": 96,
     "metadata": {},
     "output_type": "execute_result"
    }
   ],
   "source": [
    "models[1][1].print_topics(num_topics=-1, num_words=15)"
   ]
  },
  {
   "cell_type": "markdown",
   "metadata": {},
   "source": [
    "The three topic solution sees to create the topics of programming, jobs and nature.\n",
    "\n",
    "* The **PROGRAMMING** topic have words like python, use, code, print, return, import, file, create, number, link, new, time, def and data\n",
    "* The **JOB** topic have words like people, startup, thing, work, get, make, good, want, think, company, way, seem, much and something\n",
    "* The **NATURE** topic have words like god, man, moon, old, night, earth, strange, stone, men, dark, light, valley and daemon"
   ]
  },
  {
   "cell_type": "markdown",
   "metadata": {},
   "source": [
    "By going through both of them, I decided that I am simply going to remove the posts, where the topic of nature is the strongest one, using the three-topic solution. I will keep the rest of the posts."
   ]
  },
  {
   "cell_type": "markdown",
   "metadata": {},
   "source": [
    "In order to do this, I will first go through all the posts and see which of the topics is the most highly represented. "
   ]
  },
  {
   "cell_type": "code",
   "execution_count": 133,
   "metadata": {},
   "outputs": [],
   "source": [
    "all_files_filtered = os.listdir(folder_filtered)"
   ]
  },
  {
   "cell_type": "code",
   "execution_count": 134,
   "metadata": {},
   "outputs": [],
   "source": [
    "topics_of_files = []\n",
    "m = models[1][1]\n",
    "model_name = \"model_1_3\"\n",
    "for filename in all_files_filtered:\n",
    "    text_name = filename\n",
    "    with open(os.path.join(folder_filtered, filename)) as f:\n",
    "        data_file = f.readlines()\n",
    "    data_file = [w.strip() for w in data_file]\n",
    "    new_vector = dictionary.doc2bow(data_file)\n",
    "    topics_current = m.get_document_topics(new_vector)\n",
    "    topics_of_files.append(tuple([model_name, text_name, topics_current]))"
   ]
  },
  {
   "cell_type": "code",
   "execution_count": 136,
   "metadata": {},
   "outputs": [],
   "source": [
    "topics_of_files2 = [(filename, [t for t, v in topics if v == max([v for t, v in topics])][0]) for model_name, filename, topics in topics_of_files]"
   ]
  },
  {
   "cell_type": "code",
   "execution_count": 137,
   "metadata": {},
   "outputs": [
    {
     "data": {
      "text/plain": [
       "Counter({1: 3509, 2: 745, 0: 3862})"
      ]
     },
     "execution_count": 137,
     "metadata": {},
     "output_type": "execute_result"
    }
   ],
   "source": [
    "collections.Counter([t for f, t in topics_of_files2])"
   ]
  },
  {
   "cell_type": "markdown",
   "metadata": {},
   "source": [
    "Here we can see the number of files, by the strongest topic in that text. The nature one seems to be the least frequent, where it is present in less than 1000 texts. The other two topics (programming and jobs) are the strongest topic in between 3000-4000 texts. "
   ]
  },
  {
   "cell_type": "markdown",
   "metadata": {},
   "source": [
    "I am also interested in how many files actually have any of the nature topic included. So this is also something, that I am going to check."
   ]
  },
  {
   "cell_type": "code",
   "execution_count": 161,
   "metadata": {},
   "outputs": [],
   "source": [
    "topics_of_files3 = [(filename, [v for t, v in topics if t == 2]) for model_name, filename, topics in topics_of_files]"
   ]
  },
  {
   "cell_type": "code",
   "execution_count": 162,
   "metadata": {},
   "outputs": [],
   "source": [
    "topics_of_files3 = [(filename, value[0]) for filename, value in topics_of_files3 if value]"
   ]
  },
  {
   "cell_type": "code",
   "execution_count": 163,
   "metadata": {},
   "outputs": [
    {
     "data": {
      "text/plain": [
       "2857"
      ]
     },
     "execution_count": 163,
     "metadata": {},
     "output_type": "execute_result"
    }
   ],
   "source": [
    "len(topics_of_files3)"
   ]
  },
  {
   "cell_type": "markdown",
   "metadata": {},
   "source": [
    "There are 2857 files, where there is at least a small representation of the nature topic. But I am also interested in distribution of the values of how much it is represented. "
   ]
  },
  {
   "cell_type": "code",
   "execution_count": 165,
   "metadata": {},
   "outputs": [
    {
     "data": {
      "text/plain": [
       "(array([1640.,  208.,   80.,  215.,   37.,  107.,   11.,   18.,    0.,\n",
       "         541.]),\n",
       " array([0.01000303, 0.10895349, 0.20790395, 0.30685443, 0.40580487,\n",
       "        0.5047554 , 0.6037058 , 0.70265627, 0.8016067 , 0.9005572 ,\n",
       "        0.99950767], dtype=float32),\n",
       " <a list of 10 Patch objects>)"
      ]
     },
     "execution_count": 165,
     "metadata": {},
     "output_type": "execute_result"
    },
    {
     "data": {
      "image/png": "[encoded data removed]",
      "text/plain": [
       "<Figure size 432x288 with 1 Axes>"
      ]
     },
     "metadata": {
      "needs_background": "light"
     },
     "output_type": "display_data"
    }
   ],
   "source": [
    "plt.hist([value for filename, value in topics_of_files3])"
   ]
  },
  {
   "cell_type": "markdown",
   "metadata": {},
   "source": [
    "It seems, that if I put the threshold at 20% or even 10%, I am still not going to eliminate most of the text. It is a very binominal distribution, with most either having almost nothing or almost all of nature topic in text. "
   ]
  },
  {
   "cell_type": "code",
   "execution_count": 184,
   "metadata": {},
   "outputs": [],
   "source": [
    "topics_of_files_eliminate = [filename for filename, value in topics_of_files3 if value > 0.00]"
   ]
  },
  {
   "cell_type": "code",
   "execution_count": 185,
   "metadata": {},
   "outputs": [
    {
     "data": {
      "text/plain": [
       "2857"
      ]
     },
     "execution_count": 185,
     "metadata": {},
     "output_type": "execute_result"
    }
   ],
   "source": [
    "len(topics_of_files_eliminate)"
   ]
  },
  {
   "cell_type": "markdown",
   "metadata": {},
   "source": [
    "Now I am going to copy all the texts in the next folder and then delete the ones, where nature topic is included at all. This will eliminate 2857 texts. \n",
    "\n",
    "I am not eliminating just text, where the nature is the strongest topic, because then the nature topic still gets represented in the topics (in some cases with multiple topics). Including the texts, where this topic was represented less than 10% helped, but not eliminated the problem. "
   ]
  },
  {
   "cell_type": "code",
   "execution_count": 190,
   "metadata": {},
   "outputs": [],
   "source": [
    "all_files_filtered = os.listdir(folder_filtered)"
   ]
  },
  {
   "cell_type": "code",
   "execution_count": 191,
   "metadata": {},
   "outputs": [],
   "source": [
    "for filename in all_files_filtered:\n",
    "    shutil.copyfile(os.path.join(folder_filtered, filename), os.path.join(folder_python, filename))"
   ]
  },
  {
   "cell_type": "code",
   "execution_count": 192,
   "metadata": {},
   "outputs": [],
   "source": [
    "for filename in topics_of_files_eliminate:\n",
    "    os.remove(os.path.join(folder_python, filename))"
   ]
  },
  {
   "cell_type": "code",
   "execution_count": 193,
   "metadata": {},
   "outputs": [
    {
     "data": {
      "text/plain": [
       "5259"
      ]
     },
     "execution_count": 193,
     "metadata": {},
     "output_type": "execute_result"
    }
   ],
   "source": [
    "len(os.listdir(folder_python))"
   ]
  },
  {
   "cell_type": "markdown",
   "metadata": {},
   "source": [
    "And now I am left with 5259 posts. "
   ]
  },
  {
   "cell_type": "markdown",
   "metadata": {},
   "source": [
    "## Topic Modeling - Getting Topics"
   ]
  },
  {
   "cell_type": "markdown",
   "metadata": {},
   "source": [
    "So now we are left with only the topics, that deal with python as a programming. Now the 'real' topic modeling can begin. So now, by using the texts left over, I am going to build topic models with from 2 to 29 topics. "
   ]
  },
  {
   "cell_type": "code",
   "execution_count": 195,
   "metadata": {},
   "outputs": [],
   "source": [
    "all_files_python = os.listdir(folder_python)"
   ]
  },
  {
   "cell_type": "code",
   "execution_count": 196,
   "metadata": {},
   "outputs": [],
   "source": [
    "all_words_python =  []\n",
    "for filename in all_files_python:\n",
    "    with open(os.path.join(folder_python, filename), \"r\") as f:\n",
    "        words = f.readlines()\n",
    "        words = [w.strip() for w in words]\n",
    "    all_words_python.append(words)"
   ]
  },
  {
   "cell_type": "code",
   "execution_count": 197,
   "metadata": {},
   "outputs": [],
   "source": [
    "dictionary_python = gensim.corpora.Dictionary(all_words_python)"
   ]
  },
  {
   "cell_type": "code",
   "execution_count": 198,
   "metadata": {},
   "outputs": [],
   "source": [
    "doc_term_matrix_python = [dictionary_python.doc2bow(doc) for doc in all_words_python]"
   ]
  },
  {
   "cell_type": "code",
   "execution_count": 199,
   "metadata": {},
   "outputs": [],
   "source": [
    "models_python = []"
   ]
  },
  {
   "cell_type": "code",
   "execution_count": 200,
   "metadata": {},
   "outputs": [
    {
     "name": "stdout",
     "output_type": "stream",
     "text": [
      "2\n"
     ]
    },
    {
     "name": "stderr",
     "output_type": "stream",
     "text": [
      "/usr/lib/python3.7/site-packages/pyLDAvis/_prepare.py:257: FutureWarning: Sorting because non-concatenation axis is not aligned. A future version\n",
      "of pandas will change to not sort by default.\n",
      "\n",
      "To accept the future behavior, pass 'sort=False'.\n",
      "\n",
      "To retain the current behavior and silence the warning, pass 'sort=True'.\n",
      "\n",
      "  return pd.concat([default_term_info] + list(topic_dfs))\n"
     ]
    },
    {
     "name": "stdout",
     "output_type": "stream",
     "text": [
      "3\n"
     ]
    },
    {
     "name": "stderr",
     "output_type": "stream",
     "text": [
      "/usr/lib/python3.7/site-packages/pyLDAvis/_prepare.py:257: FutureWarning: Sorting because non-concatenation axis is not aligned. A future version\n",
      "of pandas will change to not sort by default.\n",
      "\n",
      "To accept the future behavior, pass 'sort=False'.\n",
      "\n",
      "To retain the current behavior and silence the warning, pass 'sort=True'.\n",
      "\n",
      "  return pd.concat([default_term_info] + list(topic_dfs))\n"
     ]
    },
    {
     "name": "stdout",
     "output_type": "stream",
     "text": [
      "4\n"
     ]
    },
    {
     "name": "stderr",
     "output_type": "stream",
     "text": [
      "/usr/lib/python3.7/site-packages/pyLDAvis/_prepare.py:257: FutureWarning: Sorting because non-concatenation axis is not aligned. A future version\n",
      "of pandas will change to not sort by default.\n",
      "\n",
      "To accept the future behavior, pass 'sort=False'.\n",
      "\n",
      "To retain the current behavior and silence the warning, pass 'sort=True'.\n",
      "\n",
      "  return pd.concat([default_term_info] + list(topic_dfs))\n"
     ]
    },
    {
     "name": "stdout",
     "output_type": "stream",
     "text": [
      "5\n"
     ]
    },
    {
     "name": "stderr",
     "output_type": "stream",
     "text": [
      "/usr/lib/python3.7/site-packages/pyLDAvis/_prepare.py:257: FutureWarning: Sorting because non-concatenation axis is not aligned. A future version\n",
      "of pandas will change to not sort by default.\n",
      "\n",
      "To accept the future behavior, pass 'sort=False'.\n",
      "\n",
      "To retain the current behavior and silence the warning, pass 'sort=True'.\n",
      "\n",
      "  return pd.concat([default_term_info] + list(topic_dfs))\n"
     ]
    },
    {
     "name": "stdout",
     "output_type": "stream",
     "text": [
      "6\n"
     ]
    },
    {
     "name": "stderr",
     "output_type": "stream",
     "text": [
      "/usr/lib/python3.7/site-packages/pyLDAvis/_prepare.py:257: FutureWarning: Sorting because non-concatenation axis is not aligned. A future version\n",
      "of pandas will change to not sort by default.\n",
      "\n",
      "To accept the future behavior, pass 'sort=False'.\n",
      "\n",
      "To retain the current behavior and silence the warning, pass 'sort=True'.\n",
      "\n",
      "  return pd.concat([default_term_info] + list(topic_dfs))\n"
     ]
    },
    {
     "name": "stdout",
     "output_type": "stream",
     "text": [
      "7\n"
     ]
    },
    {
     "name": "stderr",
     "output_type": "stream",
     "text": [
      "/usr/lib/python3.7/site-packages/pyLDAvis/_prepare.py:257: FutureWarning: Sorting because non-concatenation axis is not aligned. A future version\n",
      "of pandas will change to not sort by default.\n",
      "\n",
      "To accept the future behavior, pass 'sort=False'.\n",
      "\n",
      "To retain the current behavior and silence the warning, pass 'sort=True'.\n",
      "\n",
      "  return pd.concat([default_term_info] + list(topic_dfs))\n"
     ]
    },
    {
     "name": "stdout",
     "output_type": "stream",
     "text": [
      "8\n"
     ]
    },
    {
     "name": "stderr",
     "output_type": "stream",
     "text": [
      "/usr/lib/python3.7/site-packages/pyLDAvis/_prepare.py:257: FutureWarning: Sorting because non-concatenation axis is not aligned. A future version\n",
      "of pandas will change to not sort by default.\n",
      "\n",
      "To accept the future behavior, pass 'sort=False'.\n",
      "\n",
      "To retain the current behavior and silence the warning, pass 'sort=True'.\n",
      "\n",
      "  return pd.concat([default_term_info] + list(topic_dfs))\n"
     ]
    },
    {
     "name": "stdout",
     "output_type": "stream",
     "text": [
      "9\n"
     ]
    },
    {
     "name": "stderr",
     "output_type": "stream",
     "text": [
      "/usr/lib/python3.7/site-packages/pyLDAvis/_prepare.py:257: FutureWarning: Sorting because non-concatenation axis is not aligned. A future version\n",
      "of pandas will change to not sort by default.\n",
      "\n",
      "To accept the future behavior, pass 'sort=False'.\n",
      "\n",
      "To retain the current behavior and silence the warning, pass 'sort=True'.\n",
      "\n",
      "  return pd.concat([default_term_info] + list(topic_dfs))\n"
     ]
    },
    {
     "name": "stdout",
     "output_type": "stream",
     "text": [
      "10\n"
     ]
    },
    {
     "name": "stderr",
     "output_type": "stream",
     "text": [
      "/usr/lib/python3.7/site-packages/pyLDAvis/_prepare.py:257: FutureWarning: Sorting because non-concatenation axis is not aligned. A future version\n",
      "of pandas will change to not sort by default.\n",
      "\n",
      "To accept the future behavior, pass 'sort=False'.\n",
      "\n",
      "To retain the current behavior and silence the warning, pass 'sort=True'.\n",
      "\n",
      "  return pd.concat([default_term_info] + list(topic_dfs))\n"
     ]
    },
    {
     "name": "stdout",
     "output_type": "stream",
     "text": [
      "11\n"
     ]
    },
    {
     "name": "stderr",
     "output_type": "stream",
     "text": [
      "/usr/lib/python3.7/site-packages/pyLDAvis/_prepare.py:257: FutureWarning: Sorting because non-concatenation axis is not aligned. A future version\n",
      "of pandas will change to not sort by default.\n",
      "\n",
      "To accept the future behavior, pass 'sort=False'.\n",
      "\n",
      "To retain the current behavior and silence the warning, pass 'sort=True'.\n",
      "\n",
      "  return pd.concat([default_term_info] + list(topic_dfs))\n"
     ]
    },
    {
     "name": "stdout",
     "output_type": "stream",
     "text": [
      "12\n"
     ]
    },
    {
     "name": "stderr",
     "output_type": "stream",
     "text": [
      "/usr/lib/python3.7/site-packages/pyLDAvis/_prepare.py:257: FutureWarning: Sorting because non-concatenation axis is not aligned. A future version\n",
      "of pandas will change to not sort by default.\n",
      "\n",
      "To accept the future behavior, pass 'sort=False'.\n",
      "\n",
      "To retain the current behavior and silence the warning, pass 'sort=True'.\n",
      "\n",
      "  return pd.concat([default_term_info] + list(topic_dfs))\n"
     ]
    },
    {
     "name": "stdout",
     "output_type": "stream",
     "text": [
      "13\n"
     ]
    },
    {
     "name": "stderr",
     "output_type": "stream",
     "text": [
      "/usr/lib/python3.7/site-packages/pyLDAvis/_prepare.py:257: FutureWarning: Sorting because non-concatenation axis is not aligned. A future version\n",
      "of pandas will change to not sort by default.\n",
      "\n",
      "To accept the future behavior, pass 'sort=False'.\n",
      "\n",
      "To retain the current behavior and silence the warning, pass 'sort=True'.\n",
      "\n",
      "  return pd.concat([default_term_info] + list(topic_dfs))\n"
     ]
    },
    {
     "name": "stdout",
     "output_type": "stream",
     "text": [
      "14\n"
     ]
    },
    {
     "name": "stderr",
     "output_type": "stream",
     "text": [
      "/usr/lib/python3.7/site-packages/pyLDAvis/_prepare.py:257: FutureWarning: Sorting because non-concatenation axis is not aligned. A future version\n",
      "of pandas will change to not sort by default.\n",
      "\n",
      "To accept the future behavior, pass 'sort=False'.\n",
      "\n",
      "To retain the current behavior and silence the warning, pass 'sort=True'.\n",
      "\n",
      "  return pd.concat([default_term_info] + list(topic_dfs))\n"
     ]
    },
    {
     "name": "stdout",
     "output_type": "stream",
     "text": [
      "15\n"
     ]
    },
    {
     "name": "stderr",
     "output_type": "stream",
     "text": [
      "/usr/lib/python3.7/site-packages/pyLDAvis/_prepare.py:257: FutureWarning: Sorting because non-concatenation axis is not aligned. A future version\n",
      "of pandas will change to not sort by default.\n",
      "\n",
      "To accept the future behavior, pass 'sort=False'.\n",
      "\n",
      "To retain the current behavior and silence the warning, pass 'sort=True'.\n",
      "\n",
      "  return pd.concat([default_term_info] + list(topic_dfs))\n"
     ]
    },
    {
     "name": "stdout",
     "output_type": "stream",
     "text": [
      "16\n"
     ]
    },
    {
     "name": "stderr",
     "output_type": "stream",
     "text": [
      "/usr/lib/python3.7/site-packages/pyLDAvis/_prepare.py:257: FutureWarning: Sorting because non-concatenation axis is not aligned. A future version\n",
      "of pandas will change to not sort by default.\n",
      "\n",
      "To accept the future behavior, pass 'sort=False'.\n",
      "\n",
      "To retain the current behavior and silence the warning, pass 'sort=True'.\n",
      "\n",
      "  return pd.concat([default_term_info] + list(topic_dfs))\n"
     ]
    },
    {
     "name": "stdout",
     "output_type": "stream",
     "text": [
      "17\n"
     ]
    },
    {
     "name": "stderr",
     "output_type": "stream",
     "text": [
      "/usr/lib/python3.7/site-packages/pyLDAvis/_prepare.py:257: FutureWarning: Sorting because non-concatenation axis is not aligned. A future version\n",
      "of pandas will change to not sort by default.\n",
      "\n",
      "To accept the future behavior, pass 'sort=False'.\n",
      "\n",
      "To retain the current behavior and silence the warning, pass 'sort=True'.\n",
      "\n",
      "  return pd.concat([default_term_info] + list(topic_dfs))\n"
     ]
    },
    {
     "name": "stdout",
     "output_type": "stream",
     "text": [
      "18\n"
     ]
    },
    {
     "name": "stderr",
     "output_type": "stream",
     "text": [
      "/usr/lib/python3.7/site-packages/pyLDAvis/_prepare.py:257: FutureWarning: Sorting because non-concatenation axis is not aligned. A future version\n",
      "of pandas will change to not sort by default.\n",
      "\n",
      "To accept the future behavior, pass 'sort=False'.\n",
      "\n",
      "To retain the current behavior and silence the warning, pass 'sort=True'.\n",
      "\n",
      "  return pd.concat([default_term_info] + list(topic_dfs))\n"
     ]
    },
    {
     "name": "stdout",
     "output_type": "stream",
     "text": [
      "19\n"
     ]
    },
    {
     "name": "stderr",
     "output_type": "stream",
     "text": [
      "/usr/lib/python3.7/site-packages/pyLDAvis/_prepare.py:257: FutureWarning: Sorting because non-concatenation axis is not aligned. A future version\n",
      "of pandas will change to not sort by default.\n",
      "\n",
      "To accept the future behavior, pass 'sort=False'.\n",
      "\n",
      "To retain the current behavior and silence the warning, pass 'sort=True'.\n",
      "\n",
      "  return pd.concat([default_term_info] + list(topic_dfs))\n"
     ]
    },
    {
     "name": "stdout",
     "output_type": "stream",
     "text": [
      "20\n"
     ]
    },
    {
     "name": "stderr",
     "output_type": "stream",
     "text": [
      "/usr/lib/python3.7/site-packages/pyLDAvis/_prepare.py:257: FutureWarning: Sorting because non-concatenation axis is not aligned. A future version\n",
      "of pandas will change to not sort by default.\n",
      "\n",
      "To accept the future behavior, pass 'sort=False'.\n",
      "\n",
      "To retain the current behavior and silence the warning, pass 'sort=True'.\n",
      "\n",
      "  return pd.concat([default_term_info] + list(topic_dfs))\n"
     ]
    },
    {
     "name": "stdout",
     "output_type": "stream",
     "text": [
      "21\n"
     ]
    },
    {
     "name": "stderr",
     "output_type": "stream",
     "text": [
      "/usr/lib/python3.7/site-packages/pyLDAvis/_prepare.py:257: FutureWarning: Sorting because non-concatenation axis is not aligned. A future version\n",
      "of pandas will change to not sort by default.\n",
      "\n",
      "To accept the future behavior, pass 'sort=False'.\n",
      "\n",
      "To retain the current behavior and silence the warning, pass 'sort=True'.\n",
      "\n",
      "  return pd.concat([default_term_info] + list(topic_dfs))\n"
     ]
    },
    {
     "name": "stdout",
     "output_type": "stream",
     "text": [
      "22\n"
     ]
    },
    {
     "name": "stderr",
     "output_type": "stream",
     "text": [
      "/usr/lib/python3.7/site-packages/pyLDAvis/_prepare.py:257: FutureWarning: Sorting because non-concatenation axis is not aligned. A future version\n",
      "of pandas will change to not sort by default.\n",
      "\n",
      "To accept the future behavior, pass 'sort=False'.\n",
      "\n",
      "To retain the current behavior and silence the warning, pass 'sort=True'.\n",
      "\n",
      "  return pd.concat([default_term_info] + list(topic_dfs))\n"
     ]
    },
    {
     "name": "stdout",
     "output_type": "stream",
     "text": [
      "23\n"
     ]
    },
    {
     "name": "stderr",
     "output_type": "stream",
     "text": [
      "/usr/lib/python3.7/site-packages/pyLDAvis/_prepare.py:257: FutureWarning: Sorting because non-concatenation axis is not aligned. A future version\n",
      "of pandas will change to not sort by default.\n",
      "\n",
      "To accept the future behavior, pass 'sort=False'.\n",
      "\n",
      "To retain the current behavior and silence the warning, pass 'sort=True'.\n",
      "\n",
      "  return pd.concat([default_term_info] + list(topic_dfs))\n"
     ]
    },
    {
     "name": "stdout",
     "output_type": "stream",
     "text": [
      "24\n"
     ]
    },
    {
     "name": "stderr",
     "output_type": "stream",
     "text": [
      "/usr/lib/python3.7/site-packages/pyLDAvis/_prepare.py:257: FutureWarning: Sorting because non-concatenation axis is not aligned. A future version\n",
      "of pandas will change to not sort by default.\n",
      "\n",
      "To accept the future behavior, pass 'sort=False'.\n",
      "\n",
      "To retain the current behavior and silence the warning, pass 'sort=True'.\n",
      "\n",
      "  return pd.concat([default_term_info] + list(topic_dfs))\n"
     ]
    },
    {
     "name": "stdout",
     "output_type": "stream",
     "text": [
      "25\n"
     ]
    },
    {
     "name": "stderr",
     "output_type": "stream",
     "text": [
      "/usr/lib/python3.7/site-packages/pyLDAvis/_prepare.py:257: FutureWarning: Sorting because non-concatenation axis is not aligned. A future version\n",
      "of pandas will change to not sort by default.\n",
      "\n",
      "To accept the future behavior, pass 'sort=False'.\n",
      "\n",
      "To retain the current behavior and silence the warning, pass 'sort=True'.\n",
      "\n",
      "  return pd.concat([default_term_info] + list(topic_dfs))\n"
     ]
    },
    {
     "name": "stdout",
     "output_type": "stream",
     "text": [
      "26\n"
     ]
    },
    {
     "name": "stderr",
     "output_type": "stream",
     "text": [
      "/usr/lib/python3.7/site-packages/pyLDAvis/_prepare.py:257: FutureWarning: Sorting because non-concatenation axis is not aligned. A future version\n",
      "of pandas will change to not sort by default.\n",
      "\n",
      "To accept the future behavior, pass 'sort=False'.\n",
      "\n",
      "To retain the current behavior and silence the warning, pass 'sort=True'.\n",
      "\n",
      "  return pd.concat([default_term_info] + list(topic_dfs))\n"
     ]
    },
    {
     "name": "stdout",
     "output_type": "stream",
     "text": [
      "27\n"
     ]
    },
    {
     "name": "stderr",
     "output_type": "stream",
     "text": [
      "/usr/lib/python3.7/site-packages/pyLDAvis/_prepare.py:257: FutureWarning: Sorting because non-concatenation axis is not aligned. A future version\n",
      "of pandas will change to not sort by default.\n",
      "\n",
      "To accept the future behavior, pass 'sort=False'.\n",
      "\n",
      "To retain the current behavior and silence the warning, pass 'sort=True'.\n",
      "\n",
      "  return pd.concat([default_term_info] + list(topic_dfs))\n"
     ]
    },
    {
     "name": "stdout",
     "output_type": "stream",
     "text": [
      "28\n"
     ]
    },
    {
     "name": "stderr",
     "output_type": "stream",
     "text": [
      "/usr/lib/python3.7/site-packages/pyLDAvis/_prepare.py:257: FutureWarning: Sorting because non-concatenation axis is not aligned. A future version\n",
      "of pandas will change to not sort by default.\n",
      "\n",
      "To accept the future behavior, pass 'sort=False'.\n",
      "\n",
      "To retain the current behavior and silence the warning, pass 'sort=True'.\n",
      "\n",
      "  return pd.concat([default_term_info] + list(topic_dfs))\n"
     ]
    },
    {
     "name": "stdout",
     "output_type": "stream",
     "text": [
      "29\n"
     ]
    },
    {
     "name": "stderr",
     "output_type": "stream",
     "text": [
      "/usr/lib/python3.7/site-packages/pyLDAvis/_prepare.py:257: FutureWarning: Sorting because non-concatenation axis is not aligned. A future version\n",
      "of pandas will change to not sort by default.\n",
      "\n",
      "To accept the future behavior, pass 'sort=False'.\n",
      "\n",
      "To retain the current behavior and silence the warning, pass 'sort=True'.\n",
      "\n",
      "  return pd.concat([default_term_info] + list(topic_dfs))\n"
     ]
    }
   ],
   "source": [
    "for i in range(2,30):\n",
    "    print(i)\n",
    "    name = \"LDA_2_\" + str(i)\n",
    "    Lda = gensim.models.ldamodel.LdaModel\n",
    "    model = Lda(doc_term_matrix_python, num_topics=i, id2word = dictionary_python, passes=20)\n",
    "    model.save(os.path.join(folder_models_2, name))\n",
    "    vis = pyLDAvis.gensim.prepare(model, doc_term_matrix_python, dictionary_python)\n",
    "    with open(os.path.join(folder_vis_2, name), \"wb\") as f:\n",
    "        pickle.dump(vis, f)\n",
    "    pyLDAvis.save_html(vis, os.path.join(folder_vis_2, name + \".html\"))\n",
    "    models_python.append([i, model, vis])"
   ]
  },
  {
   "cell_type": "markdown",
   "metadata": {},
   "source": [
    "Coherence and perplexity can help with deciding how many topics to choose. With perplexsity is the lower the better, and with coherence it is the higer the better. But they are just rhe guidelines. So here is the way, how to calculate and plot them. "
   ]
  },
  {
   "cell_type": "code",
   "execution_count": 202,
   "metadata": {},
   "outputs": [],
   "source": [
    "all_values = []\n",
    "for _, model_current, _ in models_python:\n",
    "    m = model_current.log_perplexity(doc_term_matrix_python)\n",
    "    c = gensim.models.CoherenceModel(model=model_current, texts=all_words_python, dictionary=dictionary_python, coherence='c_v')\n",
    "    cc = c.get_coherence()\n",
    "    all_values.append(tuple([model_current.num_topics, m, cc]))"
   ]
  },
  {
   "cell_type": "code",
   "execution_count": 211,
   "metadata": {},
   "outputs": [
    {
     "data": {
      "text/plain": [
       "[(2, -7.147427696331892, 0.4413736983682601),\n",
       " (3, -7.080754639097655, 0.4676653082712983),\n",
       " (4, -7.050363558275542, 0.46550099002561984),\n",
       " (5, -7.0331824229667586, 0.48487537695220506),\n",
       " (6, -7.023920456695701, 0.47021956873593007),\n",
       " (7, -7.0370474699589405, 0.4550923127852453),\n",
       " (8, -7.028582678483683, 0.4681567351521483),\n",
       " (9, -7.034688005414624, 0.4612604694137026),\n",
       " (10, -7.0267763608315335, 0.4520902678215581),\n",
       " (11, -7.022367229819862, 0.4190862638335437),\n",
       " (12, -7.020395961822716, 0.47392575096234874),\n",
       " (13, -7.025963647754216, 0.4111083897786752),\n",
       " (14, -7.021391877326452, 0.4575718911043333),\n",
       " (15, -7.025766200003005, 0.40789999609396427),\n",
       " (16, -7.016136047263336, 0.41400974181631245),\n",
       " (17, -7.025273078678406, 0.456542697146737),\n",
       " (18, -7.030333588747908, 0.4180401544510404),\n",
       " (19, -7.01779996656294, 0.4288945461831942),\n",
       " (20, -7.017802007469783, 0.44597786146151197),\n",
       " (21, -7.016891323358987, 0.4118289779436532),\n",
       " (22, -7.020193369801725, 0.3970172472908345),\n",
       " (23, -7.023219872667244, 0.44166036992044333),\n",
       " (24, -7.020719367434914, 0.41028924049849286),\n",
       " (25, -7.034907520045473, 0.39366509909081365),\n",
       " (26, -7.028425363461056, 0.41025120248006713),\n",
       " (27, -7.024411507310541, 0.41053662782591116),\n",
       " (28, -7.023718621443931, 0.43794307880934735),\n",
       " (29, -7.029157271647304, 0.40924351072215315)]"
      ]
     },
     "execution_count": 211,
     "metadata": {},
     "output_type": "execute_result"
    }
   ],
   "source": [
    "all_values"
   ]
  },
  {
   "cell_type": "code",
   "execution_count": 212,
   "metadata": {},
   "outputs": [],
   "source": [
    "?plt.plot"
   ]
  },
  {
   "cell_type": "code",
   "execution_count": 214,
   "metadata": {},
   "outputs": [
    {
     "data": {
      "text/plain": [
       "[<matplotlib.lines.Line2D at 0x7f6d9895b4e0>]"
      ]
     },
     "execution_count": 214,
     "metadata": {},
     "output_type": "execute_result"
    },
    {
     "data": {
      "image/png": "[encoded data removed]",
      "text/plain": [
       "<Figure size 432x288 with 1 Axes>"
      ]
     },
     "metadata": {
      "needs_background": "light"
     },
     "output_type": "display_data"
    }
   ],
   "source": [
    "plt.plot([model for model, p, c in all_values], [p for model, p, c in all_values])"
   ]
  },
  {
   "cell_type": "code",
   "execution_count": 215,
   "metadata": {},
   "outputs": [
    {
     "data": {
      "text/plain": [
       "[<matplotlib.lines.Line2D at 0x7f6d9e9ad9e8>]"
      ]
     },
     "execution_count": 215,
     "metadata": {},
     "output_type": "execute_result"
    },
    {
     "data": {
      "image/png": "[encoded data removed]",
      "text/plain": [
       "<Figure size 432x288 with 1 Axes>"
      ]
     },
     "metadata": {
      "needs_background": "light"
     },
     "output_type": "display_data"
    }
   ],
   "source": [
    "plt.plot([model for model, p, c in all_values], [c for model, p, c in all_values])"
   ]
  },
  {
   "cell_type": "markdown",
   "metadata": {},
   "source": [
    "## Topic Modling - 5 Topic Solution"
   ]
  },
  {
   "cell_type": "markdown",
   "metadata": {},
   "source": [
    "First I am going to check, which words are the most representitive of each topic. "
   ]
  },
  {
   "cell_type": "code",
   "execution_count": 222,
   "metadata": {},
   "outputs": [
    {
     "data": {
      "text/plain": [
       "[(0,\n",
       "  '0.017*\"think\" + 0.012*\"good\" + 0.011*\"section\" + 0.010*\"paper\" + 0.009*\"way\" + 0.009*\"text\" + 0.008*\"question\" + 0.008*\"grade\" + 0.007*\"get\" + 0.007*\"know\" + 0.007*\"discuss\" + 0.007*\"read\" + 0.007*\"point\" + 0.006*\"want\" + 0.006*\"make\"'),\n",
       " (1,\n",
       "  '0.018*\"twilio\" + 0.017*\"use\" + 0.012*\"creat\" + 0.012*\"messag\" + 0.010*\"user\" + 0.009*\"need\" + 0.009*\"code\" + 0.009*\"call\" + 0.008*\"instal\" + 0.008*\"new\" + 0.008*\"number\" + 0.008*\"app\" + 0.008*\"api\" + 0.008*\"function\" + 0.007*\"add\"'),\n",
       " (2,\n",
       "  '0.039*\"python\" + 0.019*\"use\" + 0.013*\"program\" + 0.012*\"code\" + 0.012*\"link\" + 0.010*\"learn\" + 0.010*\"data\" + 0.010*\"work\" + 0.008*\"languag\" + 0.007*\"get\" + 0.006*\"develop\" + 0.006*\"time\" + 0.006*\"want\" + 0.006*\"comment\" + 0.006*\"run\"'),\n",
       " (3,\n",
       "  '0.014*\"startup\" + 0.012*\"peopl\" + 0.010*\"work\" + 0.009*\"get\" + 0.009*\"make\" + 0.008*\"compani\" + 0.008*\"thing\" + 0.007*\"want\" + 0.006*\"good\" + 0.006*\"seem\" + 0.006*\"way\" + 0.006*\"start\" + 0.006*\"think\" + 0.006*\"idea\" + 0.005*\"investor\"'),\n",
       " (4,\n",
       "  '0.027*\"print\" + 0.023*\"return\" + 0.022*\"def\" + 0.020*\"import\" + 0.016*\"python\" + 0.014*\"function\" + 0.013*\"list\" + 0.013*\"number\" + 0.012*\"self\" + 0.012*\"file\" + 0.011*\"class\" + 0.010*\"valu\" + 0.010*\"use\" + 0.010*\"string\" + 0.009*\"code\"')]"
      ]
     },
     "execution_count": 222,
     "metadata": {},
     "output_type": "execute_result"
    }
   ],
   "source": [
    "models_python[3][1].print_topics(num_topics=-1, num_words=15)"
   ]
  },
  {
   "cell_type": "markdown",
   "metadata": {},
   "source": [
    "Since sometimes topics can be a bit ambiguous, I also like the check the titles of the posts, that are the most representitive of each topic. Here below is how to list the most representitive titles. "
   ]
  },
  {
   "cell_type": "code",
   "execution_count": 280,
   "metadata": {},
   "outputs": [],
   "source": [
    "all_files_python = os.listdir(folder_python)"
   ]
  },
  {
   "cell_type": "code",
   "execution_count": 281,
   "metadata": {},
   "outputs": [],
   "source": [
    "all_posts = os.listdir(folder_posts)"
   ]
  },
  {
   "cell_type": "code",
   "execution_count": 282,
   "metadata": {},
   "outputs": [],
   "source": [
    "topics_of_files = []\n",
    "m = models_python[3][1]\n",
    "model_name = \"model_2_5\"\n",
    "for filename in all_files_python:\n",
    "    text_name = filename\n",
    "    with open(os.path.join(folder_python, filename)) as f:\n",
    "        data_file = f.readlines()\n",
    "    data_file = [w.strip() for w in data_file]\n",
    "    new_vector = dictionary_python.doc2bow(data_file)\n",
    "    topics_current = m.get_document_topics(new_vector)\n",
    "    with open(os.path.join(folder_posts, filename)) as f:\n",
    "        data = f.readlines()\n",
    "        data = \" \".join(data)\n",
    "    data = json.loads(data)\n",
    "    title = data[\"title\"]\n",
    "    date = data[\"date\"]\n",
    "    topics_of_files.append(tuple([model_name, text_name, title, date, topics_current]))"
   ]
  },
  {
   "cell_type": "code",
   "execution_count": 283,
   "metadata": {},
   "outputs": [],
   "source": [
    "topics_of_files_python = [[model, filename, title, date] + [dict(topics)[i] if i in dict(topics) else 0 for i in range(5)] for model, filename, title, date, topics in topics_of_files]"
   ]
  },
  {
   "cell_type": "code",
   "execution_count": 284,
   "metadata": {},
   "outputs": [],
   "source": [
    "topics_of_files_python = pandas.DataFrame(topics_of_files_python)"
   ]
  },
  {
   "cell_type": "code",
   "execution_count": 285,
   "metadata": {},
   "outputs": [],
   "source": [
    "topics_of_files_python = topics_of_files_python.set_axis([\"model\", \"file\", \"title\", \"date\", \"0\", \"1\", \"2\", \"3\", \"4\"], axis='columns', inplace=False)"
   ]
  },
  {
   "cell_type": "code",
   "execution_count": 551,
   "metadata": {},
   "outputs": [
    {
     "data": {
      "text/html": [
       "<div>\n",
       "<style scoped>\n",
       "    .dataframe tbody tr th:only-of-type {\n",
       "        vertical-align: middle;\n",
       "    }\n",
       "\n",
       "    .dataframe tbody tr th {\n",
       "        vertical-align: top;\n",
       "    }\n",
       "\n",
       "    .dataframe thead th {\n",
       "        text-align: right;\n",
       "    }\n",
       "</style>\n",
       "<table border=\"1\" class=\"dataframe\">\n",
       "  <thead>\n",
       "    <tr style=\"text-align: right;\">\n",
       "      <th></th>\n",
       "      <th>model</th>\n",
       "      <th>file</th>\n",
       "      <th>title</th>\n",
       "      <th>date</th>\n",
       "      <th>0</th>\n",
       "      <th>1</th>\n",
       "      <th>2</th>\n",
       "      <th>3</th>\n",
       "      <th>4</th>\n",
       "      <th>month</th>\n",
       "      <th>year</th>\n",
       "    </tr>\n",
       "  </thead>\n",
       "  <tbody>\n",
       "  </tbody>\n",
       "</table>\n",
       "</div>"
      ],
      "text/plain": [
       "Empty DataFrame\n",
       "Columns: [model, file, title, date, 0, 1, 2, 3, 4, month, year]\n",
       "Index: []"
      ]
     },
     "execution_count": 551,
     "metadata": {},
     "output_type": "execute_result"
    }
   ],
   "source": [
    "topics_of_files_python.head(0)"
   ]
  },
  {
   "cell_type": "code",
   "execution_count": 550,
   "metadata": {},
   "outputs": [
    {
     "data": {
      "text/html": [
       "<div>\n",
       "<style scoped>\n",
       "    .dataframe tbody tr th:only-of-type {\n",
       "        vertical-align: middle;\n",
       "    }\n",
       "\n",
       "    .dataframe tbody tr th {\n",
       "        vertical-align: top;\n",
       "    }\n",
       "\n",
       "    .dataframe thead th {\n",
       "        text-align: right;\n",
       "    }\n",
       "</style>\n",
       "<table border=\"1\" class=\"dataframe\">\n",
       "  <thead>\n",
       "    <tr style=\"text-align: right;\">\n",
       "      <th></th>\n",
       "      <th>model</th>\n",
       "      <th>file</th>\n",
       "      <th>title</th>\n",
       "      <th>date</th>\n",
       "      <th>0</th>\n",
       "      <th>1</th>\n",
       "      <th>2</th>\n",
       "      <th>3</th>\n",
       "      <th>4</th>\n",
       "      <th>month</th>\n",
       "      <th>year</th>\n",
       "    </tr>\n",
       "  </thead>\n",
       "  <tbody>\n",
       "  </tbody>\n",
       "</table>\n",
       "</div>"
      ],
      "text/plain": [
       "Empty DataFrame\n",
       "Columns: [model, file, title, date, 0, 1, 2, 3, 4, month, year]\n",
       "Index: []"
      ]
     },
     "execution_count": 550,
     "metadata": {},
     "output_type": "execute_result"
    }
   ],
   "source": [
    "topics_of_files_python.sort_values(by=\"4\", axis=0, ascending=False).head(0)"
   ]
  },
  {
   "cell_type": "markdown",
   "metadata": {},
   "source": [
    "It is this panda dataframe just up above, that has it sorted by the most represetitive for topic 4. "
   ]
  },
  {
   "cell_type": "markdown",
   "metadata": {},
   "source": [
    "Putting all of this information together, I think this are the topics found in the data:\n",
    "\n",
    "* 0: School\n",
    "* 1: Making Communication\n",
    "* 2: Learning Python\n",
    "* 3: Startup\n",
    "* 4: Code examples"
   ]
  },
  {
   "cell_type": "markdown",
   "metadata": {},
   "source": [
    "These can also be ploted in time. I decided to take the year approach. There I need to do some filtering. I need to find out, how many posts were posted by year. "
   ]
  },
  {
   "cell_type": "code",
   "execution_count": 289,
   "metadata": {},
   "outputs": [],
   "source": [
    "number_of_python_files = topics_of_files_python.shape[0]"
   ]
  },
  {
   "cell_type": "code",
   "execution_count": 290,
   "metadata": {},
   "outputs": [
    {
     "data": {
      "text/plain": [
       "5259"
      ]
     },
     "execution_count": 290,
     "metadata": {},
     "output_type": "execute_result"
    }
   ],
   "source": [
    "number_of_python_files"
   ]
  },
  {
   "cell_type": "code",
   "execution_count": 326,
   "metadata": {},
   "outputs": [],
   "source": [
    "years = []\n",
    "for d in topics_of_files_python[\"date\"]:\n",
    "    years.append(d[:4])"
   ]
  },
  {
   "cell_type": "code",
   "execution_count": 327,
   "metadata": {},
   "outputs": [],
   "source": [
    "topics_of_files_python[\"year\"] = years"
   ]
  },
  {
   "cell_type": "code",
   "execution_count": 328,
   "metadata": {},
   "outputs": [],
   "source": [
    "posts_per_year = collections.defaultdict(int)\n",
    "for index, row in topics_of_files_python.iterrows():\n",
    "    posts_per_year[row[\"year\"]] += 1"
   ]
  },
  {
   "cell_type": "code",
   "execution_count": 329,
   "metadata": {},
   "outputs": [
    {
     "data": {
      "text/plain": [
       "defaultdict(int,\n",
       "            {'2018': 1522,\n",
       "             '2015': 977,\n",
       "             '2012': 160,\n",
       "             '2017': 1139,\n",
       "             '2014': 523,\n",
       "             '2019': 574,\n",
       "             '2016': 290,\n",
       "             '2013': 56,\n",
       "             '2010': 5,\n",
       "             '2009': 6,\n",
       "             '2011': 2,\n",
       "             '2008': 2,\n",
       "             '2006': 2,\n",
       "             '2007': 1})"
      ]
     },
     "execution_count": 329,
     "metadata": {},
     "output_type": "execute_result"
    }
   ],
   "source": [
    "posts_per_year"
   ]
  },
  {
   "cell_type": "markdown",
   "metadata": {},
   "source": [
    "After I have the number of posts per year, then I need the representation of topics in post. For each post, the sum of topics is 1, so I can just sum the topic fractions to get the representation in a year in all the posts in the year."
   ]
  },
  {
   "cell_type": "code",
   "execution_count": 331,
   "metadata": {},
   "outputs": [],
   "source": [
    "topics_per_year = collections.defaultdict(dict)\n",
    "for index, row in topics_of_files_python.iterrows():\n",
    "    current_year = row[\"year\"]\n",
    "    for i in range(5):\n",
    "        if i not in topics_per_year[current_year]:\n",
    "            topics_per_year[current_year][i] = 0\n",
    "        topics_per_year[current_year][i] += row[str(i)]"
   ]
  },
  {
   "cell_type": "markdown",
   "metadata": {},
   "source": [
    "I then divide them by number of posts per year to get fraction of posts on that topic. "
   ]
  },
  {
   "cell_type": "code",
   "execution_count": 333,
   "metadata": {},
   "outputs": [],
   "source": [
    "topics_per_year_freq = collections.defaultdict(dict)\n",
    "for year, values in topics_per_year.items():\n",
    "    posts_in_that_year = posts_per_year[year]\n",
    "    for topic, count in values.items():\n",
    "        topics_per_year_freq[year][topic] = count/posts_in_that_year"
   ]
  },
  {
   "cell_type": "code",
   "execution_count": 336,
   "metadata": {},
   "outputs": [],
   "source": [
    "all_years = sorted(list(topics_per_year_freq.keys()))"
   ]
  },
  {
   "cell_type": "code",
   "execution_count": 338,
   "metadata": {},
   "outputs": [],
   "source": [
    "all_topic_freq_by_year = []\n",
    "for i in range(5):\n",
    "    current_topic_freq = []\n",
    "    for year in all_years:\n",
    "        current_topic_freq.append(topics_per_year_freq[year][i])\n",
    "    all_topic_freq_by_year.append(current_topic_freq)"
   ]
  },
  {
   "cell_type": "code",
   "execution_count": 346,
   "metadata": {},
   "outputs": [],
   "source": [
    "topic_labels = [\"school\", \"making communication\", \"learning python\", \"startup\", \"code examples\"]"
   ]
  },
  {
   "cell_type": "code",
   "execution_count": 347,
   "metadata": {},
   "outputs": [
    {
     "data": {
      "text/plain": [
       "<matplotlib.legend.Legend at 0x7f6d98a4fac8>"
      ]
     },
     "execution_count": 347,
     "metadata": {},
     "output_type": "execute_result"
    },
    {
     "data": {
      "image/png": "[encoded data removed]",
      "text/plain": [
       "<Figure size 1440x720 with 1 Axes>"
      ]
     },
     "metadata": {
      "needs_background": "light"
     },
     "output_type": "display_data"
    }
   ],
   "source": [
    "plt.figure(figsize=(20,10))\n",
    "for l, t in zip(topic_labels, all_topic_freq_by_year):\n",
    "    plt.plot(all_years, t, label=l)\n",
    "plt.legend(loc='best')"
   ]
  },
  {
   "cell_type": "markdown",
   "metadata": {},
   "source": [
    "Going be this post, learning python seemsto be the most popular one through the yearsm except the most recent ones, when it got overturned by startup topic."
   ]
  },
  {
   "cell_type": "markdown",
   "metadata": {},
   "source": [
    "Since there are not a lot of python posts in the early years, the data can be a bit misleading in these years. So I decided to also plot the absolute values for all the years except the 2019 (so current). "
   ]
  },
  {
   "cell_type": "code",
   "execution_count": 354,
   "metadata": {},
   "outputs": [],
   "source": [
    "topics_per_year_for_plot = []\n",
    "for i in range(5):\n",
    "    current_topic_freq = []\n",
    "    for year in all_years:\n",
    "        if year != \"2019\":\n",
    "            current_topic_freq.append(topics_per_year[year][i])\n",
    "    topics_per_year_for_plot.append(current_topic_freq)"
   ]
  },
  {
   "cell_type": "code",
   "execution_count": 357,
   "metadata": {},
   "outputs": [
    {
     "data": {
      "text/plain": [
       "<matplotlib.legend.Legend at 0x7f6dd26bff28>"
      ]
     },
     "execution_count": 357,
     "metadata": {},
     "output_type": "execute_result"
    },
    {
     "data": {
      "image/png": "[encoded data removed]",
      "text/plain": [
       "<Figure size 1440x720 with 1 Axes>"
      ]
     },
     "metadata": {
      "needs_background": "light"
     },
     "output_type": "display_data"
    }
   ],
   "source": [
    "plt.figure(figsize=(20,10))\n",
    "for l, t in zip(topic_labels, topics_per_year_for_plot):\n",
    "    plt.plot(all_years[:-1], t, label=l, linewidth=10)\n",
    "plt.legend(loc='best')"
   ]
  },
  {
   "cell_type": "markdown",
   "metadata": {},
   "source": [
    "Here one ca see, that there was a interests in coding (or more interest in Tumblr) starting in 2013. This can be seen in the hill of topic learing python and code examples. But since 2016, it is the startup scene, that gets the most quickest growth."
   ]
  },
  {
   "cell_type": "markdown",
   "metadata": {},
   "source": [
    "## Topic Modeling - 17 Topic Solution"
   ]
  },
  {
   "cell_type": "markdown",
   "metadata": {},
   "source": [
    "Now I am also going to check the 17 topic solution. Here below are the most representitive words."
   ]
  },
  {
   "cell_type": "code",
   "execution_count": 359,
   "metadata": {},
   "outputs": [
    {
     "data": {
      "text/plain": [
       "[(0,\n",
       "  '0.017*\"think\" + 0.013*\"good\" + 0.012*\"section\" + 0.011*\"paper\" + 0.009*\"way\" + 0.009*\"grade\" + 0.008*\"question\" + 0.008*\"text\" + 0.007*\"get\" + 0.007*\"discuss\" + 0.007*\"read\" + 0.007*\"point\" + 0.007*\"want\" + 0.006*\"make\" + 0.006*\"know\"'),\n",
       " (1,\n",
       "  '0.051*\"def\" + 0.046*\"return\" + 0.046*\"print\" + 0.037*\"import\" + 0.027*\"self\" + 0.023*\"class\" + 0.022*\"python\" + 0.016*\"object\" + 0.014*\"name\" + 0.012*\"true\" + 0.011*\"els\" + 0.010*\"valu\" + 0.010*\"len\" + 0.010*\"fals\" + 0.009*\"type\"'),\n",
       " (2,\n",
       "  '0.038*\"instal\" + 0.035*\"file\" + 0.029*\"python\" + 0.024*\"use\" + 0.022*\"run\" + 0.018*\"script\" + 0.013*\"command\" + 0.012*\"http\" + 0.012*\"packag\" + 0.010*\"work\" + 0.009*\"server\" + 0.009*\"pip\" + 0.009*\"need\" + 0.009*\"modul\" + 0.009*\"line\"'),\n",
       " (3,\n",
       "  '0.038*\"commun\" + 0.018*\"messag\" + 0.018*\"organ\" + 0.015*\"help\" + 0.014*\"social\" + 0.014*\"twilio\" + 0.014*\"support\" + 0.013*\"peopl\" + 0.011*\"impact\" + 0.011*\"vote\" + 0.010*\"provid\" + 0.009*\"campaign\" + 0.009*\"develop\" + 0.008*\"access\" + 0.008*\"text\"'),\n",
       " (4,\n",
       "  '0.046*\"text\" + 0.023*\"chang\" + 0.014*\"question\" + 0.010*\"week\" + 0.010*\"answer\" + 0.010*\"topic\" + 0.010*\"got\" + 0.009*\"see\" + 0.007*\"also\" + 0.007*\"talk\" + 0.007*\"take\" + 0.007*\"day\" + 0.007*\"basic\" + 0.007*\"coin\" + 0.007*\"color\"'),\n",
       " (5,\n",
       "  '0.015*\"peopl\" + 0.011*\"compani\" + 0.010*\"get\" + 0.008*\"work\" + 0.007*\"make\" + 0.007*\"use\" + 0.006*\"startup\" + 0.006*\"thing\" + 0.006*\"say\" + 0.006*\"start\" + 0.005*\"way\" + 0.005*\"tri\" + 0.005*\"time\" + 0.005*\"new\" + 0.005*\"seem\"'),\n",
       " (6,\n",
       "  '0.018*\"use\" + 0.018*\"twilio\" + 0.017*\"creat\" + 0.016*\"messag\" + 0.012*\"function\" + 0.011*\"number\" + 0.011*\"code\" + 0.010*\"new\" + 0.010*\"need\" + 0.010*\"add\" + 0.010*\"app\" + 0.009*\"api\" + 0.008*\"follow\" + 0.008*\"send\" + 0.008*\"call\"'),\n",
       " (7,\n",
       "  '0.025*\"link\" + 0.022*\"python\" + 0.015*\"get\" + 0.014*\"know\" + 0.013*\"reddit\" + 0.013*\"work\" + 0.013*\"submit\" + 0.013*\"comment\" + 0.012*\"learn\" + 0.011*\"code\" + 0.010*\"want\" + 0.010*\"use\" + 0.009*\"start\" + 0.009*\"thing\" + 0.009*\"realli\"'),\n",
       " (8,\n",
       "  '0.020*\"startup\" + 0.010*\"peopl\" + 0.010*\"get\" + 0.010*\"make\" + 0.010*\"investor\" + 0.009*\"compani\" + 0.008*\"work\" + 0.008*\"founder\" + 0.007*\"thing\" + 0.007*\"want\" + 0.007*\"money\" + 0.007*\"seem\" + 0.007*\"start\" + 0.007*\"idea\" + 0.006*\"think\"'),\n",
       " (9,\n",
       "  '0.040*\"price\" + 0.026*\"languag\" + 0.022*\"lisp\" + 0.018*\"compil\" + 0.017*\"time\" + 0.015*\"root\" + 0.015*\"hour\" + 0.015*\"pointy-hair\" + 0.014*\"fact\" + 0.014*\"syntax\" + 0.013*\"pointy-hair bo\" + 0.012*\"bo\" + 0.011*\"runtim\" + 0.011*\"fundrais\" + 0.010*\"macro\"'),\n",
       " (10,\n",
       "  '0.014*\"startup\" + 0.013*\"thank\" + 0.010*\"peopl\" + 0.009*\"jessica\" + 0.008*\"livingston\" + 0.008*\"jessica livingston\" + 0.008*\"work\" + 0.008*\"robert\" + 0.007*\"morri\" + 0.007*\"robert morri\" + 0.007*\"get\" + 0.007*\"thing\" + 0.007*\"founder\" + 0.007*\"idea\" + 0.007*\"sam\"'),\n",
       " (11,\n",
       "  '0.068*\"user\" + 0.035*\"request\" + 0.032*\"authent\" + 0.031*\"secur\" + 0.022*\"inform\" + 0.022*\"password\" + 0.017*\"person\" + 0.016*\"account\" + 0.015*\"use\" + 0.014*\"key\" + 0.014*\"app\" + 0.013*\"form\" + 0.013*\"process\" + 0.012*\"twilio\" + 0.012*\"protect\"'),\n",
       " (12,\n",
       "  '0.023*\"number\" + 0.020*\"function\" + 0.019*\"use\" + 0.017*\"list\" + 0.016*\"code\" + 0.013*\"string\" + 0.011*\"python\" + 0.011*\"loop\" + 0.011*\"print\" + 0.010*\"link\" + 0.009*\"time\" + 0.008*\"file\" + 0.008*\"input\" + 0.007*\"valu\" + 0.007*\"run\"'),\n",
       " (13,\n",
       "  '0.147*\"data\" + 0.033*\"model\" + 0.014*\"use\" + 0.011*\"field\" + 0.010*\"valu\" + 0.010*\"variabl\" + 0.010*\"better\" + 0.009*\"analysi\" + 0.009*\"plot\" + 0.009*\"object\" + 0.008*\"import\" + 0.008*\"databas\" + 0.008*\"queri\" + 0.008*\"vector\" + 0.008*\"case\"'),\n",
       " (14,\n",
       "  '0.013*\"peopl\" + 0.013*\"work\" + 0.010*\"thing\" + 0.010*\"languag\" + 0.009*\"make\" + 0.009*\"get\" + 0.009*\"startup\" + 0.008*\"good\" + 0.008*\"program\" + 0.007*\"want\" + 0.007*\"think\" + 0.007*\"way\" + 0.007*\"someth\" + 0.006*\"write\" + 0.006*\"compani\"'),\n",
       " (15,\n",
       "  '0.023*\"twilio\" + 0.016*\"develop\" + 0.015*\"custom\" + 0.013*\"call\" + 0.011*\"use\" + 0.011*\"build\" + 0.010*\"support\" + 0.010*\"servic\" + 0.009*\"product\" + 0.008*\"new\" + 0.008*\"experi\" + 0.008*\"system\" + 0.007*\"api\" + 0.007*\"connect\" + 0.007*\"devic\"'),\n",
       " (16,\n",
       "  '0.076*\"python\" + 0.026*\"program\" + 0.024*\"use\" + 0.022*\"languag\" + 0.019*\"learn\" + 0.016*\"code\" + 0.011*\"develop\" + 0.009*\"java\" + 0.007*\"machin\" + 0.007*\"cours\" + 0.007*\"librari\" + 0.007*\"http\" + 0.006*\"web\" + 0.006*\"wordpress\" + 0.006*\"applic\"')]"
      ]
     },
     "execution_count": 359,
     "metadata": {},
     "output_type": "execute_result"
    }
   ],
   "source": [
    "models_python[15][1].print_topics(num_topics=-1, num_words=15)"
   ]
  },
  {
   "cell_type": "markdown",
   "metadata": {},
   "source": [
    "These are the topics, that I think exist here:\n",
    "    \n",
    "* 0: School\n",
    "* 1: Code examples (in foreign langauge)\n",
    "* 2: Installing\n",
    "* 3: Communication\n",
    "* 4: Questions and Answers\n",
    "* 5: Working in Startups\n",
    "* 6: Creating Apps\n",
    "* 7: Learning Python\n",
    "* 8: Creating Startups\n",
    "* 9: Programming\n",
    "* 10: Y-Combinator\n",
    "* 11: Autentication\n",
    "* 12: Code examples\n",
    "* 13: Data Analysis\n",
    "* 14: Lessons from Startup World\n",
    "* 15: Announcments\n",
    "* 16: Python Courses"
   ]
  },
  {
   "cell_type": "markdown",
   "metadata": {},
   "source": [
    "Since I had some problems with defining some topics, I again created myself some help with looking at the titles of most prepresetitive posts."
   ]
  },
  {
   "cell_type": "code",
   "execution_count": 362,
   "metadata": {},
   "outputs": [],
   "source": [
    "all_files_python = os.listdir(folder_python)"
   ]
  },
  {
   "cell_type": "code",
   "execution_count": 363,
   "metadata": {},
   "outputs": [],
   "source": [
    "all_posts = os.listdir(folder_posts)"
   ]
  },
  {
   "cell_type": "code",
   "execution_count": 364,
   "metadata": {},
   "outputs": [],
   "source": [
    "topics_of_files_17 = []\n",
    "m = models_python[15][1]\n",
    "model_name = \"model_2_17\"\n",
    "for filename in all_files_python:\n",
    "    text_name = filename\n",
    "    with open(os.path.join(folder_python, filename)) as f:\n",
    "        data_file = f.readlines()\n",
    "    data_file = [w.strip() for w in data_file]\n",
    "    new_vector = dictionary_python.doc2bow(data_file)\n",
    "    topics_current = m.get_document_topics(new_vector)\n",
    "    with open(os.path.join(folder_posts, filename)) as f:\n",
    "        data = f.readlines()\n",
    "        data = \" \".join(data)\n",
    "    data = json.loads(data)\n",
    "    title = data[\"title\"]\n",
    "    date = data[\"date\"]\n",
    "    topics_of_files_17.append(tuple([model_name, text_name, title, date, topics_current]))"
   ]
  },
  {
   "cell_type": "code",
   "execution_count": 374,
   "metadata": {},
   "outputs": [],
   "source": [
    "topics_of_files_python_17 = [[dict(topics)[i] if i in dict(topics) else 0 for i in range(17)] + [title] for model, filename, title, date, topics in topics_of_files_17]"
   ]
  },
  {
   "cell_type": "code",
   "execution_count": 375,
   "metadata": {},
   "outputs": [],
   "source": [
    "topics_of_files_python_17 = pandas.DataFrame(topics_of_files_python_17 )"
   ]
  },
  {
   "cell_type": "code",
   "execution_count": 549,
   "metadata": {},
   "outputs": [
    {
     "data": {
      "text/plain": [
       "[]"
      ]
     },
     "execution_count": 549,
     "metadata": {},
     "output_type": "execute_result"
    }
   ],
   "source": [
    "list(topics_of_files_python_17.sort_values(by=1, axis=0, ascending=False).head(0)[17])"
   ]
  },
  {
   "cell_type": "markdown",
   "metadata": {},
   "source": [
    "Now let us go through the topics and see, which ones tend to appear together. \n",
    "\n",
    "First we need to figure out, how many posts are there."
   ]
  },
  {
   "cell_type": "code",
   "execution_count": 408,
   "metadata": {},
   "outputs": [],
   "source": [
    "number_of_python_files_17 = topics_of_files_python_17.shape[0]"
   ]
  },
  {
   "cell_type": "code",
   "execution_count": 409,
   "metadata": {},
   "outputs": [
    {
     "data": {
      "text/plain": [
       "5259"
      ]
     },
     "execution_count": 409,
     "metadata": {},
     "output_type": "execute_result"
    }
   ],
   "source": [
    "number_of_python_files_17"
   ]
  },
  {
   "cell_type": "markdown",
   "metadata": {},
   "source": [
    "There are 5259 files. "
   ]
  },
  {
   "cell_type": "markdown",
   "metadata": {},
   "source": [
    "Next, I am going to get how many posts have each topic."
   ]
  },
  {
   "cell_type": "code",
   "execution_count": 413,
   "metadata": {},
   "outputs": [],
   "source": [
    "file_number_by_topic_17 = dict()\n",
    "for i in range(17):\n",
    "    file_number_by_topic_17[i] = len([n for n in topics_of_files_python_17[i] if n != 0])"
   ]
  },
  {
   "cell_type": "code",
   "execution_count": 414,
   "metadata": {},
   "outputs": [
    {
     "data": {
      "text/plain": [
       "{0: 775,\n",
       " 1: 995,\n",
       " 2: 1318,\n",
       " 3: 443,\n",
       " 4: 715,\n",
       " 5: 1977,\n",
       " 6: 992,\n",
       " 7: 1827,\n",
       " 8: 2420,\n",
       " 9: 465,\n",
       " 10: 1204,\n",
       " 11: 565,\n",
       " 12: 1384,\n",
       " 13: 891,\n",
       " 14: 2549,\n",
       " 15: 1010,\n",
       " 16: 1434}"
      ]
     },
     "execution_count": 414,
     "metadata": {},
     "output_type": "execute_result"
    }
   ],
   "source": [
    "file_number_by_topic_17"
   ]
  },
  {
   "cell_type": "markdown",
   "metadata": {},
   "source": [
    "And now I am going to calculate, how many times the topics appear in the same post. "
   ]
  },
  {
   "cell_type": "code",
   "execution_count": 415,
   "metadata": {},
   "outputs": [],
   "source": [
    "topic_connections = collections.defaultdict(dict)\n",
    "for index, row in topics_of_files_python_17.iterrows():\n",
    "    topics_in_row = []\n",
    "    for i in range(17):\n",
    "        current_value = row[i]\n",
    "        if current_value != 0:\n",
    "            topics_in_row.append(i)\n",
    "    for i in topics_in_row:\n",
    "        for j in topics_in_row:\n",
    "            if i > j:\n",
    "                if not j in topic_connections[i]:\n",
    "                    topic_connections[i][j] = 0\n",
    "                topic_connections[i][j] += 1"
   ]
  },
  {
   "cell_type": "markdown",
   "metadata": {},
   "source": [
    "And now I am going to use the graph to try and see, if there is any connection, that are more frequent, then it would be expected just based on their frequency in text. "
   ]
  },
  {
   "cell_type": "code",
   "execution_count": 482,
   "metadata": {},
   "outputs": [],
   "source": [
    "A=networkx.Graph()"
   ]
  },
  {
   "cell_type": "code",
   "execution_count": 483,
   "metadata": {},
   "outputs": [],
   "source": [
    "for topic1, data in topic_connections.items():\n",
    "    for topic2, count in data.items():\n",
    "        freq_con = count / number_of_python_files_17\n",
    "        freq_expect = (file_number_by_topic_17[topic1]/number_of_python_files_17) * (file_number_by_topic_17[topic2]/number_of_python_files_17)\n",
    "        surprise = freq_con - freq_expect\n",
    "        if surprise > 0.01:\n",
    "            A.add_edge(topic1,topic2)"
   ]
  },
  {
   "cell_type": "code",
   "execution_count": 485,
   "metadata": {},
   "outputs": [
    {
     "data": {
      "text/plain": [
       "NodeView((8, 5, 10, 14, 4, 0, 11, 1, 2, 6, 7, 12, 16, 13, 15, 3))"
      ]
     },
     "execution_count": 485,
     "metadata": {},
     "output_type": "execute_result"
    }
   ],
   "source": [
    "A.nodes()"
   ]
  },
  {
   "cell_type": "code",
   "execution_count": 486,
   "metadata": {},
   "outputs": [],
   "source": [
    "mapping_python_topics = {0: \"School\", 1: \"Code Examples (foreign)\", 2: \"Installing\", 3: \"Communication\", 4: \"Q and A\", \n",
    "                         5: \"Working in Startups\", 6: \"Creating Apps\", 7: \"Learning Python\", 8: \"Creating Startups\", \n",
    "                         9: \"Programming\", 10: \"Y-Combinator\", 11: \"Autentication\", 12: \"Code Examples\", \n",
    "                         13: \"Data Analysis\", 14: \"Startup Lessons\", 15: \"Announcments\", 16: \"Python Courses\"}"
   ]
  },
  {
   "cell_type": "code",
   "execution_count": 487,
   "metadata": {},
   "outputs": [],
   "source": [
    "A=networkx.relabel_nodes(A,mapping_python_topics)"
   ]
  },
  {
   "cell_type": "code",
   "execution_count": 488,
   "metadata": {},
   "outputs": [
    {
     "data": {
      "text/plain": [
       "NodeView(('Creating Startups', 'Working in Startups', 'Y-Combinator', 'Startup Lessons', 'Q and A', 'School', 'Autentication', 'Code Examples (foreign)', 'Installing', 'Creating Apps', 'Learning Python', 'Code Examples', 'Python Courses', 'Data Analysis', 'Announcments', 'Communication'))"
      ]
     },
     "execution_count": 488,
     "metadata": {},
     "output_type": "execute_result"
    }
   ],
   "source": [
    "A.nodes()"
   ]
  },
  {
   "cell_type": "code",
   "execution_count": 496,
   "metadata": {},
   "outputs": [
    {
     "data": {
      "image/png": "[encoded data removed]",
      "text/plain": [
       "<Figure size 1080x1080 with 1 Axes>"
      ]
     },
     "metadata": {},
     "output_type": "display_data"
    }
   ],
   "source": [
    "plt.figure(1,figsize=(15,15)) \n",
    "networkx.draw(A, \n",
    "        with_labels=True, \n",
    "        pos=networkx.spring_layout(A, k=0.5), \n",
    "        font_weight='bold', \n",
    "        node_color=\"lightblue\",\n",
    "        edge_color=\"gray\",\n",
    "        width=3, \n",
    "        arrows=True, \n",
    "        node_size=3000,\n",
    "             )"
   ]
  },
  {
   "cell_type": "markdown",
   "metadata": {},
   "source": [
    "We can see, that there is two groups of topics. One is about the startups, and the other is about coding. The topic programming (which is a general topic abour programming in different langauges) is not connected more than expected with any oter topic."
   ]
  },
  {
   "cell_type": "markdown",
   "metadata": {},
   "source": [
    "## Topic Modeling - Getting just Python (without Startup)"
   ]
  },
  {
   "cell_type": "markdown",
   "metadata": {},
   "source": [
    "For the next one, I am going to remove all the posts, that have a startup stuff in them. So I am going to copy the files in a new folder and deleted all that have startup topic in them. For this, I am going to be using the 2-topic solution and deleted every post, that have some startup in them. "
   ]
  },
  {
   "cell_type": "markdown",
   "metadata": {},
   "source": [
    "Below is the two-topic solution with topic 0 as coding and topic 2 as startup."
   ]
  },
  {
   "cell_type": "code",
   "execution_count": 500,
   "metadata": {},
   "outputs": [
    {
     "data": {
      "text/plain": [
       "[(0,\n",
       "  '0.014*\"python\" + 0.014*\"use\" + 0.008*\"code\" + 0.007*\"twilio\" + 0.006*\"number\" + 0.006*\"creat\" + 0.006*\"need\" + 0.006*\"file\" + 0.006*\"get\" + 0.006*\"data\" + 0.006*\"function\" + 0.006*\"import\" + 0.005*\"return\" + 0.005*\"call\" + 0.005*\"make\"'),\n",
       " (1,\n",
       "  '0.013*\"startup\" + 0.012*\"peopl\" + 0.010*\"work\" + 0.009*\"get\" + 0.009*\"make\" + 0.008*\"thing\" + 0.008*\"compani\" + 0.007*\"good\" + 0.007*\"want\" + 0.006*\"think\" + 0.006*\"way\" + 0.006*\"seem\" + 0.006*\"idea\" + 0.006*\"start\" + 0.005*\"someth\"')]"
      ]
     },
     "execution_count": 500,
     "metadata": {},
     "output_type": "execute_result"
    }
   ],
   "source": [
    "models_python[0][1].print_topics(num_topics=-1, num_words=15)"
   ]
  },
  {
   "cell_type": "markdown",
   "metadata": {},
   "source": [
    "Now I am going to calculate the topics of each of the post."
   ]
  },
  {
   "cell_type": "code",
   "execution_count": 501,
   "metadata": {},
   "outputs": [],
   "source": [
    "topics_of_files_2 = []\n",
    "m = models_python[0][1]\n",
    "model_name = \"model_2_2\"\n",
    "for filename in all_files_python:\n",
    "    text_name = filename\n",
    "    with open(os.path.join(folder_python, filename)) as f:\n",
    "        data_file = f.readlines()\n",
    "    data_file = [w.strip() for w in data_file]\n",
    "    new_vector = dictionary_python.doc2bow(data_file)\n",
    "    topics_current = m.get_document_topics(new_vector)\n",
    "    topics_of_files_2.append(tuple([text_name, topics_current]))"
   ]
  },
  {
   "cell_type": "code",
   "execution_count": 503,
   "metadata": {},
   "outputs": [
    {
     "data": {
      "text/plain": [
       "5259"
      ]
     },
     "execution_count": 503,
     "metadata": {},
     "output_type": "execute_result"
    }
   ],
   "source": [
    "len(topics_of_files_2)"
   ]
  },
  {
   "cell_type": "code",
   "execution_count": 504,
   "metadata": {},
   "outputs": [],
   "source": [
    "topic_of_files_2_startup = [filename for filename, topics in topics_of_files_2 if 1 in dict(topics)]"
   ]
  },
  {
   "cell_type": "code",
   "execution_count": 505,
   "metadata": {},
   "outputs": [
    {
     "data": {
      "text/plain": [
       "4809"
      ]
     },
     "execution_count": 505,
     "metadata": {},
     "output_type": "execute_result"
    }
   ],
   "source": [
    "len(topic_of_files_2_startup)"
   ]
  },
  {
   "cell_type": "markdown",
   "metadata": {},
   "source": [
    "There are 5259 posts overall, and 4809 include the startup topic. And these are the ones, that I am going to delete."
   ]
  },
  {
   "cell_type": "code",
   "execution_count": 507,
   "metadata": {},
   "outputs": [],
   "source": [
    "for filename in all_files_python:\n",
    "    shutil.copyfile(os.path.join(folder_python, filename), os.path.join(folder_coding, filename))"
   ]
  },
  {
   "cell_type": "code",
   "execution_count": 508,
   "metadata": {},
   "outputs": [],
   "source": [
    "for filename in topic_of_files_2_startup:\n",
    "    os.remove(os.path.join(folder_coding, filename))"
   ]
  },
  {
   "cell_type": "code",
   "execution_count": 509,
   "metadata": {},
   "outputs": [
    {
     "data": {
      "text/plain": [
       "450"
      ]
     },
     "execution_count": 509,
     "metadata": {},
     "output_type": "execute_result"
    }
   ],
   "source": [
    "len(os.listdir(folder_coding))"
   ]
  },
  {
   "cell_type": "markdown",
   "metadata": {},
   "source": [
    "So now I am left with 450 posts, that are strictly about python coding. Now I am going to create topic models from just these posts. "
   ]
  },
  {
   "cell_type": "code",
   "execution_count": 510,
   "metadata": {},
   "outputs": [],
   "source": [
    "all_files_coding = os.listdir(folder_coding)"
   ]
  },
  {
   "cell_type": "code",
   "execution_count": 511,
   "metadata": {},
   "outputs": [],
   "source": [
    "all_words_coding =  []\n",
    "for filename in all_files_coding:\n",
    "    with open(os.path.join(folder_coding, filename), \"r\") as f:\n",
    "        words = f.readlines()\n",
    "        words = [w.strip() for w in words]\n",
    "    all_words_coding.append(words)"
   ]
  },
  {
   "cell_type": "code",
   "execution_count": 512,
   "metadata": {},
   "outputs": [],
   "source": [
    "dictionary_coding = gensim.corpora.Dictionary(all_words_coding)\n",
    "doc_term_matrix_coding = [dictionary_coding.doc2bow(doc) for doc in all_words_coding]"
   ]
  },
  {
   "cell_type": "code",
   "execution_count": 514,
   "metadata": {},
   "outputs": [],
   "source": [
    "models_coding = []"
   ]
  },
  {
   "cell_type": "code",
   "execution_count": 515,
   "metadata": {},
   "outputs": [
    {
     "name": "stdout",
     "output_type": "stream",
     "text": [
      "2\n"
     ]
    },
    {
     "name": "stderr",
     "output_type": "stream",
     "text": [
      "/usr/lib/python3.7/site-packages/pyLDAvis/_prepare.py:257: FutureWarning: Sorting because non-concatenation axis is not aligned. A future version\n",
      "of pandas will change to not sort by default.\n",
      "\n",
      "To accept the future behavior, pass 'sort=False'.\n",
      "\n",
      "To retain the current behavior and silence the warning, pass 'sort=True'.\n",
      "\n",
      "  return pd.concat([default_term_info] + list(topic_dfs))\n"
     ]
    },
    {
     "name": "stdout",
     "output_type": "stream",
     "text": [
      "3\n"
     ]
    },
    {
     "name": "stderr",
     "output_type": "stream",
     "text": [
      "/usr/lib/python3.7/site-packages/pyLDAvis/_prepare.py:257: FutureWarning: Sorting because non-concatenation axis is not aligned. A future version\n",
      "of pandas will change to not sort by default.\n",
      "\n",
      "To accept the future behavior, pass 'sort=False'.\n",
      "\n",
      "To retain the current behavior and silence the warning, pass 'sort=True'.\n",
      "\n",
      "  return pd.concat([default_term_info] + list(topic_dfs))\n"
     ]
    },
    {
     "name": "stdout",
     "output_type": "stream",
     "text": [
      "4\n"
     ]
    },
    {
     "name": "stderr",
     "output_type": "stream",
     "text": [
      "/usr/lib/python3.7/site-packages/pyLDAvis/_prepare.py:257: FutureWarning: Sorting because non-concatenation axis is not aligned. A future version\n",
      "of pandas will change to not sort by default.\n",
      "\n",
      "To accept the future behavior, pass 'sort=False'.\n",
      "\n",
      "To retain the current behavior and silence the warning, pass 'sort=True'.\n",
      "\n",
      "  return pd.concat([default_term_info] + list(topic_dfs))\n"
     ]
    },
    {
     "name": "stdout",
     "output_type": "stream",
     "text": [
      "5\n"
     ]
    },
    {
     "name": "stderr",
     "output_type": "stream",
     "text": [
      "/usr/lib/python3.7/site-packages/pyLDAvis/_prepare.py:257: FutureWarning: Sorting because non-concatenation axis is not aligned. A future version\n",
      "of pandas will change to not sort by default.\n",
      "\n",
      "To accept the future behavior, pass 'sort=False'.\n",
      "\n",
      "To retain the current behavior and silence the warning, pass 'sort=True'.\n",
      "\n",
      "  return pd.concat([default_term_info] + list(topic_dfs))\n"
     ]
    },
    {
     "name": "stdout",
     "output_type": "stream",
     "text": [
      "6\n"
     ]
    },
    {
     "name": "stderr",
     "output_type": "stream",
     "text": [
      "/usr/lib/python3.7/site-packages/pyLDAvis/_prepare.py:257: FutureWarning: Sorting because non-concatenation axis is not aligned. A future version\n",
      "of pandas will change to not sort by default.\n",
      "\n",
      "To accept the future behavior, pass 'sort=False'.\n",
      "\n",
      "To retain the current behavior and silence the warning, pass 'sort=True'.\n",
      "\n",
      "  return pd.concat([default_term_info] + list(topic_dfs))\n"
     ]
    },
    {
     "name": "stdout",
     "output_type": "stream",
     "text": [
      "7\n"
     ]
    },
    {
     "name": "stderr",
     "output_type": "stream",
     "text": [
      "/usr/lib/python3.7/site-packages/pyLDAvis/_prepare.py:257: FutureWarning: Sorting because non-concatenation axis is not aligned. A future version\n",
      "of pandas will change to not sort by default.\n",
      "\n",
      "To accept the future behavior, pass 'sort=False'.\n",
      "\n",
      "To retain the current behavior and silence the warning, pass 'sort=True'.\n",
      "\n",
      "  return pd.concat([default_term_info] + list(topic_dfs))\n"
     ]
    },
    {
     "name": "stdout",
     "output_type": "stream",
     "text": [
      "8\n"
     ]
    },
    {
     "name": "stderr",
     "output_type": "stream",
     "text": [
      "/usr/lib/python3.7/site-packages/pyLDAvis/_prepare.py:257: FutureWarning: Sorting because non-concatenation axis is not aligned. A future version\n",
      "of pandas will change to not sort by default.\n",
      "\n",
      "To accept the future behavior, pass 'sort=False'.\n",
      "\n",
      "To retain the current behavior and silence the warning, pass 'sort=True'.\n",
      "\n",
      "  return pd.concat([default_term_info] + list(topic_dfs))\n"
     ]
    },
    {
     "name": "stdout",
     "output_type": "stream",
     "text": [
      "9\n"
     ]
    },
    {
     "name": "stderr",
     "output_type": "stream",
     "text": [
      "/usr/lib/python3.7/site-packages/pyLDAvis/_prepare.py:257: FutureWarning: Sorting because non-concatenation axis is not aligned. A future version\n",
      "of pandas will change to not sort by default.\n",
      "\n",
      "To accept the future behavior, pass 'sort=False'.\n",
      "\n",
      "To retain the current behavior and silence the warning, pass 'sort=True'.\n",
      "\n",
      "  return pd.concat([default_term_info] + list(topic_dfs))\n"
     ]
    }
   ],
   "source": [
    "for i in range(2,10):\n",
    "    print(i)\n",
    "    name = \"LDA_3_\" + str(i)\n",
    "    Lda = gensim.models.ldamodel.LdaModel\n",
    "    model = Lda(doc_term_matrix_coding, num_topics=i, id2word = dictionary_coding, passes=20)\n",
    "    model.save(os.path.join(folder_models_3, name))\n",
    "    vis = pyLDAvis.gensim.prepare(model, doc_term_matrix_coding, dictionary_coding)\n",
    "    with open(os.path.join(folder_vis_3, name), \"wb\") as f:\n",
    "        pickle.dump(vis, f)\n",
    "    pyLDAvis.save_html(vis, os.path.join(folder_vis_3, name + \".html\"))\n",
    "    models_coding.append([i, model, vis])"
   ]
  },
  {
   "cell_type": "markdown",
   "metadata": {},
   "source": [
    "Now if we look at the 5-topic solution, these are the topics that came out of it."
   ]
  },
  {
   "cell_type": "code",
   "execution_count": 518,
   "metadata": {},
   "outputs": [
    {
     "data": {
      "text/plain": [
       "[(0,\n",
       "  '0.017*\"use\" + 0.015*\"user\" + 0.014*\"creat\" + 0.013*\"file\" + 0.012*\"code\" + 0.011*\"function\" + 0.011*\"video\" + 0.010*\"follow\" + 0.009*\"new\" + 0.009*\"room\" + 0.009*\"return\" + 0.009*\"app\" + 0.009*\"add\" + 0.009*\"import\" + 0.008*\"applic\"'),\n",
       " (1,\n",
       "  '0.025*\"messag\" + 0.021*\"chat\" + 0.020*\"compon\" + 0.018*\"channel\" + 0.015*\"function\" + 0.015*\"return\" + 0.013*\"que\" + 0.013*\"creat\" + 0.011*\"add\" + 0.011*\"applic\" + 0.011*\"token\" + 0.010*\"app\" + 0.010*\"set\" + 0.010*\"import\" + 0.009*\"null\"'),\n",
       " (2,\n",
       "  '0.047*\"def\" + 0.043*\"print\" + 0.033*\"return\" + 0.030*\"import\" + 0.027*\"self\" + 0.021*\"python\" + 0.011*\"name\" + 0.009*\"class\" + 0.009*\"len\" + 0.009*\"true\" + 0.009*\"valu\" + 0.008*\"els\" + 0.008*\"object\" + 0.008*\"code\" + 0.007*\"list\"'),\n",
       " (3,\n",
       "  '0.024*\"twilio\" + 0.019*\"use\" + 0.018*\"number\" + 0.017*\"messag\" + 0.014*\"creat\" + 0.012*\"call\" + 0.011*\"function\" + 0.010*\"code\" + 0.010*\"need\" + 0.010*\"phone\" + 0.010*\"send\" + 0.009*\"new\" + 0.008*\"app\" + 0.008*\"api\" + 0.008*\"let\"'),\n",
       " (4,\n",
       "  '0.033*\"python\" + 0.026*\"instal\" + 0.020*\"use\" + 0.019*\"file\" + 0.010*\"data\" + 0.010*\"type\" + 0.009*\"run\" + 0.009*\"creat\" + 0.008*\"script\" + 0.008*\"object\" + 0.008*\"command\" + 0.007*\"http\" + 0.007*\"pip\" + 0.007*\"packag\" + 0.007*\"code\"')]"
      ]
     },
     "execution_count": 518,
     "metadata": {},
     "output_type": "execute_result"
    }
   ],
   "source": [
    "models_coding[3][1].print_topics(num_topics=-1, num_words=15)"
   ]
  },
  {
   "cell_type": "markdown",
   "metadata": {},
   "source": [
    "The topics are:\n",
    "\n",
    "* 0: Creating video apps\n",
    "* 1: Extending websites\n",
    "* 2: Code examples\n",
    "* 3: Creating chat apps\n",
    "* 4: Setting up programs"
   ]
  },
  {
   "cell_type": "markdown",
   "metadata": {},
   "source": [
    "Since I needed some help understanding them, here is again the code to see the titles of most representative posts."
   ]
  },
  {
   "cell_type": "code",
   "execution_count": 532,
   "metadata": {},
   "outputs": [],
   "source": [
    "topics_of_files_3 = []\n",
    "m = models_coding[3][1]\n",
    "model_name = \"model_3_5\"\n",
    "for filename in all_files_coding:\n",
    "    text_name = filename\n",
    "    with open(os.path.join(folder_coding, filename)) as f:\n",
    "        data_file = f.readlines()\n",
    "    data_file = [w.strip() for w in data_file]\n",
    "    new_vector = dictionary_coding.doc2bow(data_file)\n",
    "    topics_current = m.get_document_topics(new_vector)\n",
    "    with open(os.path.join(folder_posts, filename)) as f:\n",
    "        data = f.readlines()\n",
    "        data = \" \".join(data)\n",
    "    data = json.loads(data)\n",
    "    title = data[\"title\"]\n",
    "    topics_of_files_3.append(tuple([text_name, title, topics_current]))"
   ]
  },
  {
   "cell_type": "code",
   "execution_count": 536,
   "metadata": {},
   "outputs": [],
   "source": [
    "topic_of_files_3_topics = [[dict(topics)[i] if i in dict(topics) else 0 for i in range(5)] + [title] for filename, title, topics in topics_of_files_3]"
   ]
  },
  {
   "cell_type": "code",
   "execution_count": 537,
   "metadata": {},
   "outputs": [],
   "source": [
    "topic_of_files_3_topics = pandas.DataFrame(topic_of_files_3_topics)"
   ]
  },
  {
   "cell_type": "code",
   "execution_count": 548,
   "metadata": {},
   "outputs": [
    {
     "data": {
      "text/html": [
       "<div>\n",
       "<style scoped>\n",
       "    .dataframe tbody tr th:only-of-type {\n",
       "        vertical-align: middle;\n",
       "    }\n",
       "\n",
       "    .dataframe tbody tr th {\n",
       "        vertical-align: top;\n",
       "    }\n",
       "\n",
       "    .dataframe thead th {\n",
       "        text-align: right;\n",
       "    }\n",
       "</style>\n",
       "<table border=\"1\" class=\"dataframe\">\n",
       "  <thead>\n",
       "    <tr style=\"text-align: right;\">\n",
       "      <th></th>\n",
       "      <th>0</th>\n",
       "      <th>1</th>\n",
       "      <th>2</th>\n",
       "      <th>3</th>\n",
       "      <th>4</th>\n",
       "      <th>5</th>\n",
       "    </tr>\n",
       "  </thead>\n",
       "  <tbody>\n",
       "  </tbody>\n",
       "</table>\n",
       "</div>"
      ],
      "text/plain": [
       "Empty DataFrame\n",
       "Columns: [0, 1, 2, 3, 4, 5]\n",
       "Index: []"
      ]
     },
     "execution_count": 548,
     "metadata": {},
     "output_type": "execute_result"
    }
   ],
   "source": [
    "topic_of_files_3_topics.sort_values(by=1, axis=0, ascending=False).head(0)"
   ]
  },
  {
   "cell_type": "code",
   "execution_count": null,
   "metadata": {},
   "outputs": [],
   "source": []
  }
 ],
 "metadata": {
  "kernelspec": {
   "display_name": "Python 3",
   "language": "python",
   "name": "python3"
  },
  "language_info": {
   "codemirror_mode": {
    "name": "ipython",
    "version": 3
   },
   "file_extension": ".py",
   "mimetype": "text/x-python",
   "name": "python",
   "nbconvert_exporter": "python",
   "pygments_lexer": "ipython3",
   "version": "3.7.3"
  }
 },
 "nbformat": 4,
 "nbformat_minor": 2
}
